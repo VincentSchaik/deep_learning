{
  "cells": [
    {
      "cell_type": "markdown",
      "id": "927ae8f4",
      "metadata": {
        "id": "927ae8f4"
      },
      "source": [
        "# Assignment 1 - Building a Vision Model with Keras\n",
        "\n",
        "In this assignment, you will build a simple vision model using Keras. The goal is to classify images from the Fashion MNIST dataset, which contains images of clothing items.\n",
        "\n",
        "You will:\n",
        "1. Load and inspect the Fashion MNIST dataset.\n",
        "2. Run a simple baseline model to establish a performance benchmark.\n",
        "3. Build and evaluate a simple CNN model, choosing appropriate loss and metrics.\n",
        "4. Design and run controlled experiments on one hyperparameter (e.g., number of filters, kernel size, etc.) and one regularization technique (e.g., dropout, L2 regularization).\n",
        "5. Analyze the results and visualize the model's performance.\n",
        "\n",
        "# 1. Loading and Inspecting the Dataset\n",
        "\n",
        "Fashion MNIST is a dataset of grayscale images of clothing items, with 10 classes. Each image is 28x28 pixels, like the MNIST dataset of handwritten digits. Keras provides a convenient way to load this dataset.\n",
        "\n",
        "In this section, you should:\n",
        "\n",
        "- [ ] Inspect the shapes of the training and test sets to confirm their size and structure.\n",
        "- [ ] Convert the labels to one-hot encoded format if necessary. (There is a utility function in Keras for this.)\n",
        "- [ ] Visualize a few images from the dataset to understand what the data looks like."
      ]
    },
    {
      "cell_type": "code",
      "execution_count": 1,
      "id": "420c7178",
      "metadata": {
        "colab": {
          "base_uri": "https://localhost:8080/"
        },
        "id": "420c7178",
        "outputId": "b272c7ef-0411-486f-fcd5-30bebe71eee0"
      },
      "outputs": [
        {
          "output_type": "stream",
          "name": "stdout",
          "text": [
            "Downloading data from https://storage.googleapis.com/tensorflow/tf-keras-datasets/train-labels-idx1-ubyte.gz\n",
            "\u001b[1m29515/29515\u001b[0m \u001b[32m━━━━━━━━━━━━━━━━━━━━\u001b[0m\u001b[37m\u001b[0m \u001b[1m0s\u001b[0m 0us/step\n",
            "Downloading data from https://storage.googleapis.com/tensorflow/tf-keras-datasets/train-images-idx3-ubyte.gz\n",
            "\u001b[1m26421880/26421880\u001b[0m \u001b[32m━━━━━━━━━━━━━━━━━━━━\u001b[0m\u001b[37m\u001b[0m \u001b[1m0s\u001b[0m 0us/step\n",
            "Downloading data from https://storage.googleapis.com/tensorflow/tf-keras-datasets/t10k-labels-idx1-ubyte.gz\n",
            "\u001b[1m5148/5148\u001b[0m \u001b[32m━━━━━━━━━━━━━━━━━━━━\u001b[0m\u001b[37m\u001b[0m \u001b[1m0s\u001b[0m 1us/step\n",
            "Downloading data from https://storage.googleapis.com/tensorflow/tf-keras-datasets/t10k-images-idx3-ubyte.gz\n",
            "\u001b[1m4422102/4422102\u001b[0m \u001b[32m━━━━━━━━━━━━━━━━━━━━\u001b[0m\u001b[37m\u001b[0m \u001b[1m0s\u001b[0m 0us/step\n"
          ]
        }
      ],
      "source": [
        "from tensorflow.keras.datasets import fashion_mnist\n",
        "(X_train, y_train), (X_test, y_test) = fashion_mnist.load_data()\n",
        "\n",
        "# Normalize the pixel values to be between 0 and 1\n",
        "X_train = X_train.astype('float32') / 255.0\n",
        "X_test = X_test.astype('float32') / 255.0\n",
        "\n",
        "# Classes in the Fashion MNIST dataset\n",
        "class_names = [\"T-shirt/top\", \"Trouser\", \"Pullover\", \"Dress\", \"Coat\", \"Sandal\", \"Shirt\", \"Sneaker\", \"Bag\", \"Ankle boot\"]"
      ]
    },
    {
      "cell_type": "code",
      "execution_count": 14,
      "id": "a6c89fe7",
      "metadata": {
        "colab": {
          "base_uri": "https://localhost:8080/",
          "height": 374
        },
        "id": "a6c89fe7",
        "outputId": "9887e91d-36ff-43e1-cae3-005d868d736c"
      },
      "outputs": [
        {
          "output_type": "stream",
          "name": "stdout",
          "text": [
            "X_train shape: (60000, 28, 28)\n",
            "y_train shape: (60000,)\n",
            "X_test shape: (10000, 28, 28)\n",
            "y_test shape: (10000,)\n",
            "y_train_one_hot shape: (60000, 10)\n",
            "y_test_one_hot shape: (10000, 10)\n",
            "\n",
            "First 5 one-hot encoded training labels:\n"
          ]
        },
        {
          "output_type": "display_data",
          "data": {
            "text/plain": [
              "array([[0., 0., 0., 0., 0., 0., 0., 0., 0., 1.],\n",
              "       [1., 0., 0., 0., 0., 0., 0., 0., 0., 0.],\n",
              "       [1., 0., 0., 0., 0., 0., 0., 0., 0., 0.],\n",
              "       [0., 0., 0., 1., 0., 0., 0., 0., 0., 0.],\n",
              "       [1., 0., 0., 0., 0., 0., 0., 0., 0., 0.]])"
            ]
          },
          "metadata": {}
        },
        {
          "output_type": "stream",
          "name": "stdout",
          "text": [
            "\n",
            "First 5 one-hot encoded test labels:\n"
          ]
        },
        {
          "output_type": "display_data",
          "data": {
            "text/plain": [
              "array([[0., 0., 0., 0., 0., 0., 0., 0., 0., 1.],\n",
              "       [0., 0., 1., 0., 0., 0., 0., 0., 0., 0.],\n",
              "       [0., 1., 0., 0., 0., 0., 0., 0., 0., 0.],\n",
              "       [0., 1., 0., 0., 0., 0., 0., 0., 0., 0.],\n",
              "       [0., 0., 0., 0., 0., 0., 1., 0., 0., 0.]])"
            ]
          },
          "metadata": {}
        }
      ],
      "source": [
        "import numpy as np\n",
        "# Inspect the shapes of the datasets\n",
        "print(\"X_train shape:\", X_train.shape)\n",
        "print(\"y_train shape:\", y_train.shape)\n",
        "print(\"X_test shape:\", X_test.shape)\n",
        "print(\"y_test shape:\", y_test.shape)\n",
        "\n",
        "# One-hot encoding on a given array of class labels.\n",
        "def one_hot(n_classes, y):\n",
        "    return np.eye(n_classes)[y]\n",
        "\n",
        "num_classes = len(class_names)\n",
        "\n",
        "y_train_one_hot = one_hot(num_classes, y=y_train)\n",
        "y_test_one_hot = one_hot(num_classes, y=y_test)\n",
        "\n",
        "print(\"y_train_one_hot shape:\", y_train_one_hot.shape)\n",
        "print(\"y_test_one_hot shape:\", y_test_one_hot.shape)\n",
        "\n",
        "# Print a few examples of the one-hot encoded labels\n",
        "print(\"\\nFirst 5 one-hot encoded training labels:\")\n",
        "display(y_train_one_hot[:5])\n",
        "print(\"\\nFirst 5 one-hot encoded test labels:\")\n",
        "display(y_test_one_hot[:5])"
      ]
    },
    {
      "cell_type": "code",
      "metadata": {
        "colab": {
          "base_uri": "https://localhost:8080/",
          "height": 607
        },
        "id": "da802b1d",
        "outputId": "25c82318-7632-476d-9346-f7b2286109ba"
      },
      "source": [
        "# Selecting 9 random indices\n",
        "random_indices = np.random.choice(len(X_train), 9, replace=False)\n",
        "\n",
        "# Creating a 3x3 grid plot\n",
        "fig, axes = plt.subplots(3, 3, figsize=(6, 6))\n",
        "\n",
        "for i, ax in enumerate(axes.flat):\n",
        "    ax.imshow(X_train[random_indices[i]], cmap='gray')\n",
        "    ax.set_title(f\"Label: {class_names[y_train[random_indices[i]]]}\")\n",
        "\n",
        "    # Removing axis labels\n",
        "    ax.set_xticks([])\n",
        "    ax.set_yticks([])\n",
        "\n",
        "plt.tight_layout()\n",
        "plt.show()"
      ],
      "id": "da802b1d",
      "execution_count": 11,
      "outputs": [
        {
          "output_type": "display_data",
          "data": {
            "text/plain": [
              "<Figure size 600x600 with 9 Axes>"
            ],
            "image/png": "[encoded data removed]"
          },
          "metadata": {}
        }
      ]
    },
    {
      "cell_type": "code",
      "execution_count": 8,
      "id": "13e100db",
      "metadata": {
        "colab": {
          "base_uri": "https://localhost:8080/",
          "height": 488
        },
        "id": "13e100db",
        "outputId": "62c8ca06-c223-466d-f5ba-5d16ca183cba"
      },
      "outputs": [
        {
          "output_type": "display_data",
          "data": {
            "text/plain": [
              "<Figure size 640x480 with 2 Axes>"
            ],
            "image/png": "[encoded data removed]"
          },
          "metadata": {}
        },
        {
          "output_type": "stream",
          "name": "stdout",
          "text": [
            "Original label for the first image: 9\n",
            "One-hot encoded label for the first image: [0. 0. 0. 0. 0. 0. 0. 0. 0. 1.]\n"
          ]
        }
      ],
      "source": [
        "import matplotlib.pyplot as plt\n",
        "\n",
        "# Display the first image and its label\n",
        "plt.figure()\n",
        "plt.imshow(X_train[0], cmap='gray')\n",
        "plt.title(f\"Label: {class_names[y_train[0]]}\")\n",
        "plt.colorbar()\n",
        "plt.grid(False)\n",
        "plt.show()\n",
        "\n",
        "print(\"Original label for the first image:\", y_train[0])\n",
        "print(\"One-hot encoded label for the first image:\", y_train_one_hot[0])"
      ]
    },
    {
      "cell_type": "markdown",
      "id": "989f7dd0",
      "metadata": {
        "id": "989f7dd0"
      },
      "source": [
        "Question: Does the data look as expected? How is the quality of the images? Are there any issues with the dataset that you notice?"
      ]
    },
    {
      "cell_type": "markdown",
      "metadata": {
        "id": "ac04ffed"
      },
      "source": [
        "Answer: The labels appear to match the images. The images are of very low resolution but are still discernible. It is difficult to distinguish between certain items, such as a Pullover and a Shirt, or a Coat and a Pullover, based on the random images observed."
      ],
      "id": "ac04ffed"
    },
    {
      "cell_type": "markdown",
      "id": "c9e8ad60",
      "metadata": {
        "id": "c9e8ad60"
      },
      "source": [
        "# 2. Baseline Model\n",
        "\n",
        "In this section, you will create a linear regression model as a baseline. This model will not use any convolutional layers, but it will help you understand the performance of a simple model on this dataset.\n",
        "You should:\n",
        "- [ ] Create a simple linear regression model using Keras.\n",
        "- [ ] Compile the model with an appropriate loss function and optimizer.\n",
        "- [ ] Train the model on the training set and evaluate it on the test set.\n",
        "\n",
        "A linear regression model can be created using the `Sequential` API in Keras. Using a single `Dense` layer with no activation function is equivalent to a simple linear regression model. Make sure that the number of units in the output layer matches the number of classes in the dataset.\n",
        "\n",
        "Note that for this step, we will need to use `Flatten` to convert the 2D images into 1D vectors before passing them to the model. Put a `Flatten()` layer as the first layer in your model so that the 2D image data can be flattened into 1D vectors."
      ]
    },
    {
      "cell_type": "code",
      "execution_count": 18,
      "id": "8563a7aa",
      "metadata": {
        "colab": {
          "base_uri": "https://localhost:8080/",
          "height": 901
        },
        "id": "8563a7aa",
        "outputId": "4995131f-cae1-4d21-92ac-2083591bc0de"
      },
      "outputs": [
        {
          "output_type": "stream",
          "name": "stderr",
          "text": [
            "/usr/local/lib/python3.12/dist-packages/keras/src/layers/reshaping/flatten.py:37: UserWarning: Do not pass an `input_shape`/`input_dim` argument to a layer. When using Sequential models, prefer using an `Input(shape)` object as the first layer in the model instead.\n",
            "  super().__init__(**kwargs)\n"
          ]
        },
        {
          "output_type": "stream",
          "name": "stdout",
          "text": [
            "Epoch 1/10\n",
            "\u001b[1m1688/1688\u001b[0m \u001b[32m━━━━━━━━━━━━━━━━━━━━\u001b[0m\u001b[37m\u001b[0m \u001b[1m6s\u001b[0m 3ms/step - accuracy: 0.7357 - loss: 0.7990 - val_accuracy: 0.8367 - val_loss: 0.4759\n",
            "Epoch 2/10\n",
            "\u001b[1m1688/1688\u001b[0m \u001b[32m━━━━━━━━━━━━━━━━━━━━\u001b[0m\u001b[37m\u001b[0m \u001b[1m9s\u001b[0m 3ms/step - accuracy: 0.8375 - loss: 0.4803 - val_accuracy: 0.8417 - val_loss: 0.4465\n",
            "Epoch 3/10\n",
            "\u001b[1m1688/1688\u001b[0m \u001b[32m━━━━━━━━━━━━━━━━━━━━\u001b[0m\u001b[37m\u001b[0m \u001b[1m5s\u001b[0m 3ms/step - accuracy: 0.8492 - loss: 0.4427 - val_accuracy: 0.8488 - val_loss: 0.4397\n",
            "Epoch 4/10\n",
            "\u001b[1m1688/1688\u001b[0m \u001b[32m━━━━━━━━━━━━━━━━━━━━\u001b[0m\u001b[37m\u001b[0m \u001b[1m4s\u001b[0m 2ms/step - accuracy: 0.8554 - loss: 0.4256 - val_accuracy: 0.8552 - val_loss: 0.4207\n",
            "Epoch 5/10\n",
            "\u001b[1m1688/1688\u001b[0m \u001b[32m━━━━━━━━━━━━━━━━━━━━\u001b[0m\u001b[37m\u001b[0m \u001b[1m5s\u001b[0m 3ms/step - accuracy: 0.8552 - loss: 0.4180 - val_accuracy: 0.8493 - val_loss: 0.4250\n",
            "Epoch 6/10\n",
            "\u001b[1m1688/1688\u001b[0m \u001b[32m━━━━━━━━━━━━━━━━━━━━\u001b[0m\u001b[37m\u001b[0m \u001b[1m5s\u001b[0m 3ms/step - accuracy: 0.8597 - loss: 0.4074 - val_accuracy: 0.8477 - val_loss: 0.4377\n",
            "Epoch 7/10\n",
            "\u001b[1m1688/1688\u001b[0m \u001b[32m━━━━━━━━━━━━━━━━━━━━\u001b[0m\u001b[37m\u001b[0m \u001b[1m4s\u001b[0m 3ms/step - accuracy: 0.8626 - loss: 0.4011 - val_accuracy: 0.8563 - val_loss: 0.4086\n",
            "Epoch 8/10\n",
            "\u001b[1m1688/1688\u001b[0m \u001b[32m━━━━━━━━━━━━━━━━━━━━\u001b[0m\u001b[37m\u001b[0m \u001b[1m5s\u001b[0m 3ms/step - accuracy: 0.8611 - loss: 0.3970 - val_accuracy: 0.8577 - val_loss: 0.4080\n",
            "Epoch 9/10\n",
            "\u001b[1m1688/1688\u001b[0m \u001b[32m━━━━━━━━━━━━━━━━━━━━\u001b[0m\u001b[37m\u001b[0m \u001b[1m5s\u001b[0m 3ms/step - accuracy: 0.8619 - loss: 0.3992 - val_accuracy: 0.8537 - val_loss: 0.4144\n",
            "Epoch 10/10\n",
            "\u001b[1m1688/1688\u001b[0m \u001b[32m━━━━━━━━━━━━━━━━━━━━\u001b[0m\u001b[37m\u001b[0m \u001b[1m4s\u001b[0m 2ms/step - accuracy: 0.8636 - loss: 0.3920 - val_accuracy: 0.8580 - val_loss: 0.4098\n",
            "\u001b[1m313/313\u001b[0m \u001b[32m━━━━━━━━━━━━━━━━━━━━\u001b[0m\u001b[37m\u001b[0m \u001b[1m1s\u001b[0m 2ms/step - accuracy: 0.8480 - loss: 0.4376\n",
            "Test accuracy: 0.8443999886512756\n"
          ]
        },
        {
          "output_type": "display_data",
          "data": {
            "text/plain": [
              "<Figure size 640x480 with 1 Axes>"
            ],
            "image/png": "[encoded data removed]"
          },
          "metadata": {}
        }
      ],
      "source": [
        "from keras.models import Sequential\n",
        "from keras.layers import Dense, Flatten\n",
        "from tensorflow.keras.optimizers import SGD\n",
        "\n",
        "\n",
        "# Create a simple linear regression model\n",
        "model = Sequential()\n",
        "\n",
        "# You can use `model.add(<layer>)` to add layers to the model\n",
        "model.add(Flatten(input_shape=X_train.shape[1:]))\n",
        "model.add(Dense(num_classes, activation='softmax'))\n",
        "\n",
        "# Compile the model using `model.compile()`\n",
        "# Adam optimizer\n",
        "model.compile(optimizer='adam', loss='categorical_crossentropy', metrics=['accuracy'])\n",
        "\n",
        "# Stochastic Gradient Descent with a learning rate of 0.01\n",
        "# model.compile(optimizer=SGD(learning_rate=0.01), loss='categorical_crossentropy', metrics=['accuracy'])\n",
        "\n",
        "\n",
        "# Train the model with `model.fit()`\n",
        "history = model.fit(X_train, y_train_one_hot, epochs=10, batch_size=32, validation_split=0.1)\n",
        "\n",
        "# Evaluate the model with `model.evaluate()`\n",
        "test_loss, test_acc = model.evaluate(X_test, y_test_one_hot)\n",
        "print('Test accuracy:', test_acc)\n",
        "\n",
        "plt.plot(history.history['loss'], label='train')\n",
        "plt.plot(history.history['val_loss'], label='validation')\n",
        "plt.ylim(0, 2)\n",
        "plt.legend(loc='best')\n",
        "plt.title('Loss');\n"
      ]
    },
    {
      "cell_type": "markdown",
      "id": "9a07e9f7",
      "metadata": {
        "id": "9a07e9f7"
      },
      "source": [
        "Reflection: What is the performance of the baseline model? How does it compare to what you expected? Why do you think the performance is at this level?"
      ]
    },
    {
      "cell_type": "markdown",
      "metadata": {
        "id": "93db732f"
      },
      "source": [
        "Reflection: The accuracy on the training data increased with each epoch, as did the accuracy on the validation data. The loss also decreased gradually. Overall, this is a good baseline performance for a simple linear model on this dataset."
      ],
      "id": "93db732f"
    },
    {
      "cell_type": "markdown",
      "id": "fa107b59",
      "metadata": {
        "id": "fa107b59"
      },
      "source": [
        "# 3. Building and Evaluating a Simple CNN Model\n",
        "\n",
        "In this section, you will build a simple Convolutional Neural Network (CNN) model using Keras. A convolutional neural network is a type of deep learning model that is particularly effective for image classification tasks. Unlike the basic neural networks we have built in the labs, CNNs can accept images as input without needing to flatten them into vectors.\n",
        "\n",
        "You should:\n",
        "- [ ] Build a simple CNN model with at least one convolutional layer (to learn spatial hierarchies in images) and one fully connected layer (to make predictions).\n",
        "- [ ] Compile the model with an appropriate loss function and metrics for a multi-class classification problem.\n",
        "- [ ] Train the model on the training set and evaluate it on the test set.\n",
        "\n",
        "Convolutional layers are designed to accept inputs with three dimensions: height, width and channels (e.g., RGB for color images). For grayscale images like those in Fashion MNIST, the input shape will be (28, 28, 1).\n",
        "\n",
        "When you progress from the convolutional layers to the fully connected layers, you will need to flatten the output of the convolutional layers. This can be done using the `Flatten` layer in Keras, which doesn't require any parameters."
      ]
    },
    {
      "cell_type": "code",
      "execution_count": 19,
      "id": "3513cf3d",
      "metadata": {
        "colab": {
          "base_uri": "https://localhost:8080/",
          "height": 901
        },
        "id": "3513cf3d",
        "outputId": "f0ff2227-398f-4849-acae-286612bee3d7"
      },
      "outputs": [
        {
          "output_type": "stream",
          "name": "stderr",
          "text": [
            "/usr/local/lib/python3.12/dist-packages/keras/src/layers/convolutional/base_conv.py:113: UserWarning: Do not pass an `input_shape`/`input_dim` argument to a layer. When using Sequential models, prefer using an `Input(shape)` object as the first layer in the model instead.\n",
            "  super().__init__(activity_regularizer=activity_regularizer, **kwargs)\n"
          ]
        },
        {
          "output_type": "stream",
          "name": "stdout",
          "text": [
            "Epoch 1/10\n",
            "\u001b[1m1688/1688\u001b[0m \u001b[32m━━━━━━━━━━━━━━━━━━━━\u001b[0m\u001b[37m\u001b[0m \u001b[1m29s\u001b[0m 16ms/step - accuracy: 0.8175 - loss: 0.5277 - val_accuracy: 0.8858 - val_loss: 0.3170\n",
            "Epoch 2/10\n",
            "\u001b[1m1688/1688\u001b[0m \u001b[32m━━━━━━━━━━━━━━━━━━━━\u001b[0m\u001b[37m\u001b[0m \u001b[1m26s\u001b[0m 15ms/step - accuracy: 0.8991 - loss: 0.2844 - val_accuracy: 0.8853 - val_loss: 0.3172\n",
            "Epoch 3/10\n",
            "\u001b[1m1688/1688\u001b[0m \u001b[32m━━━━━━━━━━━━━━━━━━━━\u001b[0m\u001b[37m\u001b[0m \u001b[1m25s\u001b[0m 15ms/step - accuracy: 0.9125 - loss: 0.2410 - val_accuracy: 0.8883 - val_loss: 0.3075\n",
            "Epoch 4/10\n",
            "\u001b[1m1688/1688\u001b[0m \u001b[32m━━━━━━━━━━━━━━━━━━━━\u001b[0m\u001b[37m\u001b[0m \u001b[1m29s\u001b[0m 17ms/step - accuracy: 0.9201 - loss: 0.2156 - val_accuracy: 0.9010 - val_loss: 0.2815\n",
            "Epoch 5/10\n",
            "\u001b[1m1688/1688\u001b[0m \u001b[32m━━━━━━━━━━━━━━━━━━━━\u001b[0m\u001b[37m\u001b[0m \u001b[1m28s\u001b[0m 17ms/step - accuracy: 0.9317 - loss: 0.1925 - val_accuracy: 0.9003 - val_loss: 0.2917\n",
            "Epoch 6/10\n",
            "\u001b[1m1688/1688\u001b[0m \u001b[32m━━━━━━━━━━━━━━━━━━━━\u001b[0m\u001b[37m\u001b[0m \u001b[1m27s\u001b[0m 16ms/step - accuracy: 0.9387 - loss: 0.1659 - val_accuracy: 0.9008 - val_loss: 0.2978\n",
            "Epoch 7/10\n",
            "\u001b[1m1688/1688\u001b[0m \u001b[32m━━━━━━━━━━━━━━━━━━━━\u001b[0m\u001b[37m\u001b[0m \u001b[1m26s\u001b[0m 16ms/step - accuracy: 0.9446 - loss: 0.1531 - val_accuracy: 0.9010 - val_loss: 0.3045\n",
            "Epoch 8/10\n",
            "\u001b[1m1688/1688\u001b[0m \u001b[32m━━━━━━━━━━━━━━━━━━━━\u001b[0m\u001b[37m\u001b[0m \u001b[1m40s\u001b[0m 15ms/step - accuracy: 0.9507 - loss: 0.1388 - val_accuracy: 0.9047 - val_loss: 0.3088\n",
            "Epoch 9/10\n",
            "\u001b[1m1688/1688\u001b[0m \u001b[32m━━━━━━━━━━━━━━━━━━━━\u001b[0m\u001b[37m\u001b[0m \u001b[1m45s\u001b[0m 17ms/step - accuracy: 0.9559 - loss: 0.1260 - val_accuracy: 0.9033 - val_loss: 0.3164\n",
            "Epoch 10/10\n",
            "\u001b[1m1688/1688\u001b[0m \u001b[32m━━━━━━━━━━━━━━━━━━━━\u001b[0m\u001b[37m\u001b[0m \u001b[1m25s\u001b[0m 15ms/step - accuracy: 0.9590 - loss: 0.1180 - val_accuracy: 0.8997 - val_loss: 0.3409\n",
            "\u001b[1m313/313\u001b[0m \u001b[32m━━━━━━━━━━━━━━━━━━━━\u001b[0m\u001b[37m\u001b[0m \u001b[1m2s\u001b[0m 6ms/step - accuracy: 0.8995 - loss: 0.3454\n",
            "Test accuracy: 0.8992999792098999\n"
          ]
        },
        {
          "output_type": "display_data",
          "data": {
            "text/plain": [
              "<Figure size 640x480 with 1 Axes>"
            ],
            "image/png": "[encoded data removed]"
          },
          "metadata": {}
        }
      ],
      "source": [
        "from keras.layers import Conv2D\n",
        "\n",
        "# Reshape the data to include the channel dimension\n",
        "X_train = X_train.reshape(-1, 28, 28, 1)\n",
        "X_test = X_test.reshape(-1, 28, 28, 1)\n",
        "\n",
        "# Create a simple CNN model\n",
        "model = Sequential()\n",
        "\n",
        "# Adding a convolutional layer with 32 filters of size 3x3.\n",
        "model.add(Conv2D(32, (3, 3), activation='relu', input_shape=(28, 28, 1)))\n",
        "\n",
        "# Adding the Flatten Layer to flatten the 2D output of the convolutional layer into a 1D vector.\n",
        "model.add(Flatten())\n",
        "\n",
        "# Adding the Dense Layer for a fully connected layer.\n",
        "model.add(Dense(num_classes, activation='softmax'))\n",
        "\n",
        "# Train the model and save history\n",
        "# Compiling the model\n",
        "model.compile(optimizer='adam', loss='categorical_crossentropy', metrics=['accuracy'])\n",
        "\n",
        "# Training the model\n",
        "history = model.fit(X_train, y_train_one_hot, epochs=10, batch_size=32, validation_split=0.1)\n",
        "\n",
        "# Evaluating the model\n",
        "test_loss, test_acc = model.evaluate(X_test, y_test_one_hot)\n",
        "print('Test accuracy:', test_acc)\n",
        "\n",
        "# Plotting loss\n",
        "plt.plot(history.history['loss'], label='train')\n",
        "plt.plot(history.history['val_loss'], label='validation')\n",
        "plt.ylim(0, 2)\n",
        "plt.legend(loc='best')\n",
        "plt.title('Loss');\n"
      ]
    },
    {
      "cell_type": "markdown",
      "id": "fabe379c",
      "metadata": {
        "id": "fabe379c"
      },
      "source": [
        "Reflection: Did the CNN model perform better than the baseline model? If so, by how much? What do you think contributed to this improvement?"
      ]
    },
    {
      "cell_type": "markdown",
      "source": [
        "Results:\n",
        "\n",
        "- The baseline model achieved a test accuracy of approximately 84.4%.\n",
        "- The simple CNN model achieved a test accuracy of approximately 89.9%.\n",
        "\n",
        "Conclusion:\n",
        "- The CNN model performed better than the baseline model on the test set.\n",
        "- The higher accuracy of the CNN suggests that the convolutional layer was effective in learning more complex features from the image data leading to better performance."
      ],
      "metadata": {
        "id": "5Ai7KYBymoLB"
      },
      "id": "5Ai7KYBymoLB"
    },
    {
      "cell_type": "code",
      "source": [],
      "metadata": {
        "id": "FozJ9DzLnxAb"
      },
      "id": "FozJ9DzLnxAb",
      "execution_count": null,
      "outputs": []
    },
    {
      "cell_type": "markdown",
      "id": "1a5e2463",
      "metadata": {
        "id": "1a5e2463"
      },
      "source": [
        "# 3. Designing and Running Controlled Experiments\n",
        "\n",
        "In this section, you will design and run controlled experiments to improve the model's performance. You will focus on one hyperparameter and one regularization technique.\n",
        "You should:\n",
        "- [ ] Choose one hyperparameter to experiment with (e.g., number of filters, kernel size, number of layers, etc.) and one regularization technique (e.g., dropout, L2 regularization). For your hyperparameter, you should choose at least three different values to test (but there is no upper limit). For your regularization technique, simply test the presence or absence of the technique.\n",
        "- [ ] Run experiments by modifying the model architecture or hyperparameters, and evaluate the performance of each model on the test set.\n",
        "- [ ] Record the results of your experiments, including the test accuracy and any other relevant metrics.\n",
        "- [ ] Visualize the results of your experiments using plots or tables to compare the performance of different models.\n",
        "\n",
        "The best way to run your experiments is to create a `for` loop that iterates over a range of values for the hyperparameter you are testing. For example, if you are testing different numbers of filters, you can create a loop that runs the model with 32, 64, and 128 filters. Within the loop, you can compile and train the model, then evaluate it on the test set. After each iteration, you can store the results in a list or a dictionary for later analysis.\n",
        "\n",
        "Note: It's critical that you re-initialize the model (by creating a new instance of the model) before each experiment. If you don't, the model will retain the weights from the previous experiment, which can lead to misleading results."
      ]
    },
    {
      "cell_type": "code",
      "execution_count": 20,
      "id": "99d6f46c",
      "metadata": {
        "colab": {
          "base_uri": "https://localhost:8080/",
          "height": 662
        },
        "id": "99d6f46c",
        "outputId": "32140b50-86bc-4cbf-ef51-3142aeee7334"
      },
      "outputs": [
        {
          "output_type": "stream",
          "name": "stdout",
          "text": [
            "Testing with 16 filters...\n"
          ]
        },
        {
          "output_type": "stream",
          "name": "stderr",
          "text": [
            "/usr/local/lib/python3.12/dist-packages/keras/src/layers/convolutional/base_conv.py:113: UserWarning: Do not pass an `input_shape`/`input_dim` argument to a layer. When using Sequential models, prefer using an `Input(shape)` object as the first layer in the model instead.\n",
            "  super().__init__(activity_regularizer=activity_regularizer, **kwargs)\n"
          ]
        },
        {
          "output_type": "stream",
          "name": "stdout",
          "text": [
            "Test accuracy with 16 filters: 0.8952\n",
            "Testing with 32 filters...\n",
            "Test accuracy with 32 filters: 0.8957\n",
            "Testing with 64 filters...\n",
            "Test accuracy with 64 filters: 0.8983\n",
            "\n",
            "Results for different numbers of filters:\n",
            "Number of filters: 16, Test Accuracy: 0.8952\n",
            "Number of filters: 32, Test Accuracy: 0.8957\n",
            "Number of filters: 64, Test Accuracy: 0.8983\n"
          ]
        },
        {
          "output_type": "display_data",
          "data": {
            "text/plain": [
              "<Figure size 800x400 with 1 Axes>"
            ],
            "image/png": "[encoded data removed]"
          },
          "metadata": {}
        }
      ],
      "source": [
        "from keras.models import Sequential\n",
        "from keras.layers import Dense, Flatten, Conv2D\n",
        "import matplotlib.pyplot as plt\n",
        "\n",
        "# A. Test Hyperparameters\n",
        "\n",
        "# Experimenting with number of filters in the convolutional layer\n",
        "num_filters_options = [16, 32, 64]\n",
        "results_filters = {}\n",
        "\n",
        "for num_filters in num_filters_options:\n",
        "    print(f\"Testing with {num_filters} filters...\")\n",
        "\n",
        "    # Initialize the model\n",
        "    model = Sequential()\n",
        "    model.add(Conv2D(num_filters, (3, 3), activation='relu', input_shape=(28, 28, 1)))\n",
        "    model.add(Flatten())\n",
        "    model.add(Dense(num_classes, activation='softmax'))\n",
        "\n",
        "    # Compiling the model\n",
        "    model.compile(optimizer='adam', loss='categorical_crossentropy', metrics=['accuracy'])\n",
        "\n",
        "    # Training the model\n",
        "    history = model.fit(X_train, y_train_one_hot, epochs=5, batch_size=32, validation_split=0.1, verbose=0)\n",
        "\n",
        "    # Evaluating the model\n",
        "    test_loss, test_acc = model.evaluate(X_test, y_test_one_hot, verbose=0)\n",
        "    print(f\"Test accuracy with {num_filters} filters: {test_acc:.4f}\")\n",
        "\n",
        "    # Storing results\n",
        "    results_filters[num_filters] = test_acc\n",
        "\n",
        "# Printing summarized results\n",
        "print(\"\\nResults for different numbers of filters:\")\n",
        "for num_filters, accuracy in results_filters.items():\n",
        "    print(f\"Number of filters: {num_filters}, Test Accuracy: {accuracy:.4f}\")\n",
        "\n",
        "# Visualizing results\n",
        "plt.figure(figsize=(8, 4))\n",
        "plt.bar(range(len(results_filters)), list(results_filters.values()), align='center')\n",
        "plt.xticks(range(len(results_filters)), list(results_filters.keys()))\n",
        "plt.ylabel('Test Accuracy')\n",
        "plt.xlabel('Number of Filters')\n",
        "plt.title('CNN Performance with Different Numbers of Filters')\n",
        "plt.ylim(0.85, 0.95)\n",
        "plt.show()"
      ]
    },
    {
      "cell_type": "code",
      "execution_count": null,
      "id": "dc43ac81",
      "metadata": {
        "id": "dc43ac81"
      },
      "outputs": [],
      "source": [
        "from keras.layers import Dropout\n",
        "\n",
        "# B. Test presence or absence of regularization\n",
        "\n",
        "# Experimenting with Dropout regularization\n",
        "dropout_rate = 0.25 # You can adjust this rate\n",
        "results_regularization = {}\n",
        "\n",
        "# Model with Dropout\n",
        "print(f\"Testing with Dropout (rate={dropout_rate})...\")\n",
        "model_dropout = Sequential()\n",
        "model_dropout.add(Conv2D(32, (3, 3), activation='relu', input_shape=(28, 28, 1))) # Using 32 filters based on previous experiment or as a starting point\n",
        "model_dropout.add(Flatten())\n",
        "model_dropout.add(Dropout(dropout_rate)) # Adding Dropout layer\n",
        "model_dropout.add(Dense(num_classes, activation='softmax'))\n",
        "\n",
        "model_dropout.compile(optimizer='adam', loss='categorical_crossentropy', metrics=['accuracy'])\n",
        "history_dropout = model_dropout.fit(X_train, y_train_one_hot, epochs=5, batch_size=32, validation_split=0.1)\n",
        "test_loss_dropout, test_acc_dropout = model_dropout.evaluate(X_test, y_test_one_hot)\n",
        "print(f\"Test accuracy with Dropout: {test_acc_dropout:.4f}\")\n",
        "results_regularization['with Dropout'] = test_acc_dropout\n",
        "\n",
        "# Modeling without Dropout (Simple CNN as a comparison)\n",
        "print(\"Testing without Dropout...\")\n",
        "model_no_dropout = Sequential()\n",
        "model_no_dropout.add(Conv2D(32, (3, 3), activation='relu', input_shape=(28, 28, 1))) # Same architecture as above\n",
        "model_no_dropout.add(Flatten())\n",
        "model_no_dropout.add(Dense(num_classes, activation='softmax'))\n",
        "\n",
        "model_no_dropout.compile(optimizer='adam', loss='categorical_crossentropy', metrics=['accuracy'])\n",
        "history_no_dropout = model_no_dropout.fit(X_train, y_train_one_hot, epochs=5, batch_size=32, validation_split=0.1)\n",
        "test_loss_no_dropout, test_acc_no_dropout = model_no_dropout.evaluate(X_test, y_test_one_hot)\n",
        "print(f\"Test accuracy without Dropout: {test_acc_no_dropout:.4f}\")\n",
        "results_regularization['without Dropout'] = test_acc_no_dropout\n",
        "\n",
        "\n",
        "# Printing summarized results\n",
        "print(\"\\nResults for regularization experiment:\")\n",
        "for regularization_type, accuracy in results_regularization.items():\n",
        "    print(f\"{regularization_type}: Test Accuracy: {accuracy:.4f}\")\n",
        "\n",
        "# Visualizing results\n",
        "plt.figure(figsize=(6, 4))\n",
        "plt.bar(range(len(results_regularization)), list(results_regularization.values()), align='center')\n",
        "plt.xticks(range(len(results_regularization)), list(results_regularization.keys()))\n",
        "plt.ylabel('Test Accuracy')\n",
        "plt.title('CNN Performance with and without Dropout Regularization')\n",
        "plt.ylim(0.85, 0.95)\n",
        "plt.show()"
      ]
    },
    {
      "cell_type": "markdown",
      "id": "cb426f26",
      "metadata": {
        "id": "cb426f26"
      },
      "source": [
        "Reflection: Report on the performance of the models you tested. Did any of the changes you made improve the model's performance? If so, which ones? What do you think contributed to these improvements? Finally, what combination of hyperparameters and regularization techniques yielded the best performance?\n",
        "\n",
        "**Your answer here**"
      ]
    },
    {
      "cell_type": "markdown",
      "id": "46c43a3d",
      "metadata": {
        "id": "46c43a3d"
      },
      "source": [
        "# 5. Training Final Model and Evaluation\n",
        "\n",
        "In this section, you will train the final model using the best hyperparameters and regularization techniques you found in the previous section. You should:\n",
        "- [ ] Compile the final model with the best hyperparameters and regularization techniques.\n",
        "- [ ] Train the final model on the training set and evaluate it on the test set.\n",
        "- [ ] Report the final model's performance on the test set, including accuracy and any other relevant metrics."
      ]
    },
    {
      "cell_type": "code",
      "execution_count": null,
      "id": "31f926d1",
      "metadata": {
        "id": "31f926d1"
      },
      "outputs": [],
      "source": []
    },
    {
      "cell_type": "markdown",
      "id": "a01f8ebc",
      "metadata": {
        "id": "a01f8ebc"
      },
      "source": [
        "Reflection: How does the final model's performance compare to the baseline and the CNN model? What do you think contributed to the final model's performance? If you had time, what other experiments would you run to further improve the model's performance?\n",
        "\n",
        "**Your answer here**"
      ]
    },
    {
      "cell_type": "markdown",
      "id": "01db8512",
      "metadata": {
        "id": "01db8512"
      },
      "source": [
        "🚨 **Please review our [Assignment Submission Guide](https://github.com/UofT-DSI/onboarding/blob/main/onboarding_documents/submissions.md)** 🚨 for detailed instructions on how to format, branch, and submit your work. Following these guidelines is crucial for your submissions to be evaluated correctly.\n",
        "### Submission Parameters:\n",
        "* Submission Due Date: `23:59 PM - 26/10/2025`\n",
        "* The branch name for your repo should be: `assignment-1`\n",
        "* What to submit for this assignment:\n",
        "    * This Jupyter Notebook (assignment_1.ipynb)\n",
        "    * The Lab 1 notebook (labs/lab_1.ipynb)\n",
        "    * The Lab 2 notebook (labs/lab_2.ipynb)\n",
        "    * The Lab 3 notebook (labs/lab_3.ipynb)\n",
        "* What the pull request link should look like for this assignment: `https://github.com/<your_github_username>/deep_learning/pull/<pr_id>`\n",
        "* Open a private window in your browser. Copy and paste the link to your pull request into the address bar. Make sure you can see your pull request properly. This helps the technical facilitator and learning support staff review your submission easily.\n",
        "Checklist:\n",
        "- [ ] Created a branch with the correct naming convention.\n",
        "- [ ] Ensured that the repository is public.\n",
        "- [ ] Reviewed the PR description guidelines and adhered to them.\n",
        "- [ ] Verify that the link is accessible in a private browser window.\n",
        "If you encounter any difficulties or have questions, please don't hesitate to reach out to our team via our Slack at `#cohort-7-help-ml`. Our Technical Facilitators and Learning Support staff are here to help you navigate any challenges."
      ]
    }
  ],
  "metadata": {
    "kernelspec": {
      "display_name": "deep_learning",
      "language": "python",
      "name": "python3"
    },
    "language_info": {
      "codemirror_mode": {
        "name": "ipython",
        "version": 3
      },
      "file_extension": ".py",
      "mimetype": "text/x-python",
      "name": "python",
      "nbconvert_exporter": "python",
      "pygments_lexer": "ipython3",
      "version": "3.12.11"
    },
    "colab": {
      "provenance": []
    }
  },
  "nbformat": 4,
  "nbformat_minor": 5
}