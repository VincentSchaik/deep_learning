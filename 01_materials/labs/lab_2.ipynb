{
  "cells": [
    {
      "cell_type": "markdown",
      "metadata": {
        "id": "4TTC6lgkFiQs"
      },
      "source": [
        "# Backpropagation in Multilayer Neural Networks\n",
        "\n",
        "---\n",
        "\n",
        "\n",
        "\n",
        "While we will primarily be working with high-level, abstract toolkits like Keras in this course, understanding how backpropagation works is absolutely essential to using neural networks.\n",
        "\n",
        "In this exercise, we will build our own backpropagation algorithm - working through each step, to ensure that we can follow it."
      ]
    },
    {
      "cell_type": "markdown",
      "metadata": {
        "collapsed": false,
        "id": "8qP3egnEFiQu"
      },
      "source": [
        "Just like in Lab 1, we'll be working with the MNIST dataset. We will load it and plot an example:"
      ]
    },
    {
      "cell_type": "code",
      "execution_count": 1,
      "metadata": {
        "id": "maPmnWQ_FiQu"
      },
      "outputs": [],
      "source": [
        "%matplotlib inline\n",
        "import matplotlib.pyplot as plt\n",
        "import numpy as np\n",
        "from sklearn.datasets import load_digits\n",
        "\n",
        "digits = load_digits()"
      ]
    },
    {
      "cell_type": "code",
      "execution_count": 2,
      "metadata": {
        "colab": {
          "base_uri": "https://localhost:8080/",
          "height": 314
        },
        "id": "duadPdK3FiQv",
        "outputId": "67d2165a-3de5-427c-f550-8b2e05bb1751"
      },
      "outputs": [
        {
          "data": {
            "image/png": "[encoded data removed]",
            "text/plain": [
              "<Figure size 300x300 with 1 Axes>"
            ]
          },
          "metadata": {},
          "output_type": "display_data"
        }
      ],
      "source": [
        "# Visualizes a sample image from the MNIST dataset.\n",
        "sample_index = 45\n",
        "plt.figure(figsize=(3, 3))\n",
        "plt.imshow(digits.images[sample_index], cmap=plt.cm.gray_r,\n",
        "           interpolation='nearest')\n",
        "plt.title(\"image label: %d\" % digits.target[sample_index]);"
      ]
    },
    {
      "cell_type": "markdown",
      "metadata": {
        "id": "zkQBYrLMFiQv"
      },
      "source": [
        "### Preprocessing\n",
        "\n",
        "Of course, we need to split our data into training and testing sets before we use it, just the same as in Lab 1:"
      ]
    },
    {
      "cell_type": "code",
      "execution_count": 3,
      "metadata": {
        "id": "FqjZg8X-FiQv"
      },
      "outputs": [],
      "source": [
        "# Split the dataset into training and testing sets\n",
        "from sklearn.model_selection import train_test_split\n",
        "\n",
        "data = np.asarray(digits.data, dtype='float32')\n",
        "target = np.asarray(digits.target, dtype='int32')\n",
        "\n",
        "X_train, X_test, y_train, y_test = train_test_split(\n",
        "    data, target, test_size=0.15, random_state=37)"
      ]
    },
    {
      "cell_type": "markdown",
      "metadata": {
        "id": "3uyuqLzuFiQv"
      },
      "source": [
        "# Numpy Implementation\n",
        "\n",
        "## a) Logistic Regression\n",
        "\n",
        "In this section we will implement a logistic regression model trainable with SGD using numpy. Here are the objectives:\n",
        "\n",
        "- Implement the softmax function $\\sigma(\\mathbf{x})_i = \\frac{e^{x_i}}{\\sum_{j=1}^n e^{x_j}}$;\n",
        "- Implement the negative log likelihood function $NLL(Y_{true}, Y_{pred}) = - \\sum_{i=1}^{n}{y_{true, i} \\cdot \\log(y_{pred, i})}$;\n",
        "- Train a logistic regression model on the MNIST dataset;\n",
        "- Evaluate the model on the training and testing sets.\n",
        "\n",
        "Before we get there, let's write a function that one-hot encodes the class labels:"
      ]
    },
    {
      "cell_type": "code",
      "execution_count": 4,
      "metadata": {
        "id": "DBr-N4wCFiQw"
      },
      "outputs": [],
      "source": [
        "# One-hot encoding on a given array of class labels.\n",
        "def one_hot(n_classes, y):\n",
        "    return np.eye(n_classes)[y]"
      ]
    },
    {
      "cell_type": "code",
      "execution_count": 5,
      "metadata": {
        "colab": {
          "base_uri": "https://localhost:8080/"
        },
        "id": "rUzruVbMFiQw",
        "outputId": "19f5a7ab-a502-429a-ecb2-2abe125cb8c6"
      },
      "outputs": [
        {
          "data": {
            "text/plain": [
              "array([0., 0., 0., 1., 0., 0., 0., 0., 0., 0.])"
            ]
          },
          "execution_count": 5,
          "metadata": {},
          "output_type": "execute_result"
        }
      ],
      "source": [
        "# Creat a one-hot encoded vector for a single class label where there are a total of 10 possible classes,\n",
        "# and the specific class label is 3.\n",
        "one_hot(n_classes=10, y=3)"
      ]
    },
    {
      "cell_type": "code",
      "execution_count": 6,
      "metadata": {
        "colab": {
          "base_uri": "https://localhost:8080/"
        },
        "id": "jcSJq0zkFiQw",
        "outputId": "1a3882fc-8165-4a66-92ff-c809c2e746d0"
      },
      "outputs": [
        {
          "data": {
            "text/plain": [
              "array([[1., 0., 0., 0., 0., 0., 0., 0., 0., 0.],\n",
              "       [0., 0., 0., 0., 1., 0., 0., 0., 0., 0.],\n",
              "       [0., 0., 0., 0., 0., 0., 0., 0., 0., 1.],\n",
              "       [0., 1., 0., 0., 0., 0., 0., 0., 0., 0.]])"
            ]
          },
          "execution_count": 6,
          "metadata": {},
          "output_type": "execute_result"
        }
      ],
      "source": [
        "# Use one_hot function with a list of class labels: [0, 4, 9, 1].\n",
        "one_hot(n_classes=10, y=[0, 4, 9, 1])"
      ]
    },
    {
      "cell_type": "markdown",
      "metadata": {
        "id": "dFu2E6pOFiQw"
      },
      "source": [
        "### The softmax function\n",
        "\n",
        "Now we will implement the softmax function. Recall that the softmax function is defined as follows:\n",
        "\n",
        "$$\n",
        "softmax(\\mathbf{x}) = \\frac{1}{\\sum_{i=1}^{n}{e^{x_i}}}\n",
        "\\cdot\n",
        "\\begin{bmatrix}\n",
        "  e^{x_1}\\\\\\\\\n",
        "  e^{x_2}\\\\\\\\\n",
        "  \\vdots\\\\\\\\\n",
        "  e^{x_n}\n",
        "\\end{bmatrix}\n",
        "$$\n",
        "\n",
        "This is implemented for you using numpy - we want to be able to apply the softmax function to a batch of samples at once, so we will use numpy's vectorized operations to do so.\n",
        "\n",
        "Our method also handles _stability issues_ that can occur when the values in `X` are very large. We will subtract the maximum value from each row of `X` to avoid overflow in the exponentiation. This isn't part of the softmax function itself, but it's a useful trick to know about."
      ]
    },
    {
      "cell_type": "code",
      "execution_count": 7,
      "metadata": {
        "id": "ZkAOgY2oFiQw"
      },
      "outputs": [],
      "source": [
        "# Output layer of a neural network for multi-class classification\n",
        "def softmax(X):\n",
        "    X_max = np.max(X, axis=-1, keepdims=True)\n",
        "    exp = np.exp(X - X_max) # Subtract the max to avoid overflow in the exponentiation\n",
        "    return exp / np.sum(exp, axis=-1, keepdims=True)\n"
      ]
    },
    {
      "cell_type": "markdown",
      "metadata": {
        "id": "qCLDOpT3FiQx"
      },
      "source": [
        "Let's make sure that this works one vector at a time (and check that the components sum to one):"
      ]
    },
    {
      "cell_type": "code",
      "execution_count": 8,
      "metadata": {
        "colab": {
          "base_uri": "https://localhost:8080/"
        },
        "id": "vsvNP21pFiQx",
        "outputId": "ee214626-c715-4f05-fa81-e53eb4fe5fef"
      },
      "outputs": [
        {
          "name": "stdout",
          "output_type": "stream",
          "text": [
            "[9.99662391e-01 3.35349373e-04 2.25956630e-06]\n"
          ]
        }
      ],
      "source": [
        "print(softmax([10, 2, -3]))"
      ]
    },
    {
      "cell_type": "markdown",
      "metadata": {
        "id": "NUsk5pNlFiQx"
      },
      "source": [
        "When we are using our model to make predictions, we will want to be able to make predictions for multiple samples at once.\n",
        "Let's make sure that our implementation of softmax works for a batch of samples:"
      ]
    },
    {
      "cell_type": "code",
      "execution_count": 9,
      "metadata": {
        "colab": {
          "base_uri": "https://localhost:8080/"
        },
        "id": "jbahp2t6FiQx",
        "outputId": "134d4f57-1db5-4a85-91bd-ca01f406fb10"
      },
      "outputs": [
        {
          "name": "stdout",
          "output_type": "stream",
          "text": [
            "[[9.99662391e-01 3.35349373e-04 2.25956630e-06]\n",
            " [2.47262316e-03 9.97527377e-01 1.38536042e-11]]\n"
          ]
        }
      ],
      "source": [
        "X = np.array([[10, 2, -3],\n",
        "              [-1, 5, -20]])\n",
        "print(softmax(X))"
      ]
    },
    {
      "cell_type": "markdown",
      "metadata": {
        "id": "XnqtgUhRFiQx"
      },
      "source": [
        "Probabilities should sum to 1:"
      ]
    },
    {
      "cell_type": "code",
      "execution_count": 10,
      "metadata": {
        "colab": {
          "base_uri": "https://localhost:8080/"
        },
        "id": "yy45snzUFiQx",
        "outputId": "9d72dcd3-3161-4de7-aaf0-6a401c31dbf9"
      },
      "outputs": [
        {
          "name": "stdout",
          "output_type": "stream",
          "text": [
            "1.0\n"
          ]
        }
      ],
      "source": [
        "print(np.sum(softmax([10, 2, -3])))"
      ]
    },
    {
      "cell_type": "code",
      "execution_count": 11,
      "metadata": {
        "colab": {
          "base_uri": "https://localhost:8080/"
        },
        "id": "wwXw2ZKzFiQx",
        "outputId": "f118e6d9-b1e3-4281-8156-812f990a9f1d"
      },
      "outputs": [
        {
          "name": "stdout",
          "output_type": "stream",
          "text": [
            "softmax of 2 vectors:\n",
            "[[9.99662391e-01 3.35349373e-04 2.25956630e-06]\n",
            " [2.47262316e-03 9.97527377e-01 1.38536042e-11]]\n"
          ]
        }
      ],
      "source": [
        "print(\"softmax of 2 vectors:\")\n",
        "X = np.array([[10, 2, -3],\n",
        "              [-1, 5, -20]])\n",
        "print(softmax(X))"
      ]
    },
    {
      "cell_type": "markdown",
      "metadata": {
        "id": "ky7uU_EfFiQx"
      },
      "source": [
        "The sum of probabilities for each input vector of logits should some to 1:"
      ]
    },
    {
      "cell_type": "code",
      "execution_count": 12,
      "metadata": {
        "colab": {
          "base_uri": "https://localhost:8080/"
        },
        "id": "jAVl4xPpFiQy",
        "outputId": "bf95a0f4-47e8-47f1-8bc5-58d6235f3f19"
      },
      "outputs": [
        {
          "name": "stdout",
          "output_type": "stream",
          "text": [
            "[1. 1.]\n"
          ]
        }
      ],
      "source": [
        "print(np.sum(softmax(X), axis=1))"
      ]
    },
    {
      "cell_type": "markdown",
      "metadata": {
        "id": "IXJKrNbjFiQy"
      },
      "source": [
        "Now we will implement a function that, given the true one-hot encoded class `Y_true` and some predicted probabilities `Y_pred`, returns the negative log likelihood.\n",
        "\n",
        "Recall that the negative log likelihood is defined as follows:\n",
        "\n",
        "$$\n",
        "NLL(Y_{true}, Y_{pred}) = - \\sum_{i=1}^{n}{y_{true, i} \\cdot \\log(y_{pred, i})}\n",
        "$$\n",
        "\n",
        "For example, if we have $y_{true} = [1, 0, 0]$ and $y_{pred} = [0.99, 0.01, 0]$, then the negative log likelihood is $- \\log(0.99) \\approx 0.01$."
      ]
    },
    {
      "cell_type": "code",
      "execution_count": 13,
      "metadata": {
        "colab": {
          "base_uri": "https://localhost:8080/"
        },
        "id": "WqMWDUeLFiQy",
        "outputId": "08ff4951-5c6b-4d97-ed68-dd178f5d3801"
      },
      "outputs": [
        {
          "name": "stdout",
          "output_type": "stream",
          "text": [
            "0.01005033585350145\n"
          ]
        }
      ],
      "source": [
        "# Calculate the negative log likelihood (NLL) between the true one-hot encoded class labels (Y_true)\n",
        "# and the predicted probabilities (Y_pred).\n",
        "\n",
        "def nll(Y_true, Y_pred):\n",
        "    Y_true = np.asarray(Y_true)\n",
        "    Y_pred = np.asarray(Y_pred)\n",
        "\n",
        "    # Ensure Y_pred doesn't have zero probabilities to avoid log(0)\n",
        "    Y_pred = np.clip(Y_pred, 1e-15, 1 - 1e-15)\n",
        "\n",
        "    # Calculate negative log likelihood\n",
        "    loss = -np.sum(Y_true * np.log(Y_pred))\n",
        "    return loss\n",
        "\n",
        "# Make sure that it works for a simple sample at a time\n",
        "print(nll([1, 0, 0], [.99, 0.01, 0]))"
      ]
    },
    {
      "cell_type": "markdown",
      "metadata": {
        "id": "lfWokF1JFiQy"
      },
      "source": [
        "We should see a very high value for this negative log likelihood, since the model is very confident that the third class is the correct one, but the true class is the first one:"
      ]
    },
    {
      "cell_type": "code",
      "execution_count": 14,
      "metadata": {
        "colab": {
          "base_uri": "https://localhost:8080/"
        },
        "id": "NBsEirQbFiQy",
        "outputId": "9fe18bb0-c243-452b-ea83-d9d97d57ba91"
      },
      "outputs": [
        {
          "name": "stdout",
          "output_type": "stream",
          "text": [
            "4.605170185988091\n"
          ]
        }
      ],
      "source": [
        "print(nll([1, 0, 0], [0.01, 0.01, .98]))"
      ]
    },
    {
      "cell_type": "markdown",
      "metadata": {
        "id": "pAliY5l2FiQy"
      },
      "source": [
        "Make sure that your implementation can compute the average negative log likelihood of a group of predictions: `Y_pred` and `Y_true` can therefore be past as 2D arrays:"
      ]
    },
    {
      "cell_type": "code",
      "execution_count": 15,
      "metadata": {
        "colab": {
          "base_uri": "https://localhost:8080/"
        },
        "id": "ZLTDVSRDFiQy",
        "outputId": "ba014207-fcd0-4f8b-8018-64397aaa9770"
      },
      "outputs": [
        {
          "name": "stdout",
          "output_type": "stream",
          "text": [
            "0.010050335853503449\n"
          ]
        }
      ],
      "source": [
        "# Check that the average NLL of the following 3 almost perfect\n",
        "# predictions is close to 0\n",
        "Y_true = np.array([[0, 1, 0],\n",
        "                   [1, 0, 0],\n",
        "                   [0, 0, 1]])\n",
        "\n",
        "Y_pred = np.array([[0,   1,    0],\n",
        "                   [.99, 0.01, 0],\n",
        "                   [0,   0,    1]])\n",
        "\n",
        "print(nll(Y_true, Y_pred))"
      ]
    },
    {
      "cell_type": "markdown",
      "metadata": {
        "collapsed": false,
        "id": "TZendczeFiQy"
      },
      "source": [
        "Now that we have our softmax and negative log likelihood functions, we can implement a logistic regression model.\n",
        "In this section, we have built the model for you, but you will need to complete a few key parts.\n",
        "\n",
        "**YOUR TURN:**\n",
        "\n",
        "1. Implement the `forward` method of the `LogisticRegression` class. This method should take in a batch of samples `X` and return the predicted probabilities for each class. You should use the softmax function that we implemented earlier.\n",
        "2. Implement the `loss` method of the `LogisticRegression` class. This method take in the samples `X` and the true values `y` and return the average negative log likelihood of the predictions."
      ]
    },
    {
      "cell_type": "code",
      "execution_count": 16,
      "metadata": {
        "id": "djfcCAhWFiQz"
      },
      "outputs": [],
      "source": [
        "class LogisticRegression:\n",
        "\n",
        "    def __init__(self, input_size, output_size):\n",
        "        # Initialize the weights and biases with random numbers\n",
        "        self.W = np.random.uniform(size=(input_size, output_size),\n",
        "                                   high=0.1, low=-0.1)\n",
        "        self.b = np.random.uniform(size=output_size,\n",
        "                                   high=0.1, low=-0.1)\n",
        "\n",
        "        # Store the input size and output size\n",
        "        self.output_size = output_size\n",
        "        self.input_size = input_size\n",
        "\n",
        "    def forward(self, X):\n",
        "        # Compute the linear combination of the input and weights\n",
        "        Z = np.dot(X, self.W) + self.b\n",
        "        return softmax(Z)\n",
        "\n",
        "    def predict(self, X):\n",
        "        # Return the most probable class for each sample in X\n",
        "        if len(X.shape) == 1:\n",
        "            return np.argmax(self.forward(X))\n",
        "        else:\n",
        "            return np.argmax(self.forward(X), axis=1)\n",
        "\n",
        "    def loss(self, X, y):\n",
        "        # Compute the negative log likelihood over the data provided\n",
        "        y_onehot = one_hot(self.output_size, y.astype(int))\n",
        "        y_pred = self.forward(X)\n",
        "        return nll(y_onehot, y_pred)\n",
        "\n",
        "    def grad_loss(self, X, y_true, y_pred):\n",
        "        # Compute the gradient of the loss with respect to W and b for a single sample (X, y_true)\n",
        "        # y_pred is the output of the forward pass\n",
        "\n",
        "        # Gradient with respect to weights\n",
        "        grad_W = np.dot(X.T, (y_pred - y_true))\n",
        "\n",
        "        # Gradient with respect to biases\n",
        "        grad_b = np.sum(y_pred - y_true, axis=0)\n",
        "\n",
        "        return grad_W, grad_b\n",
        "\n",
        "# Raise an exception if you try to run this cell without having implemented the LogisticRegression class\n",
        "model = LogisticRegression(input_size=64, output_size=10)\n",
        "try:\n",
        "    assert(model.forward(np.zeros((1, 64))).shape == (1, 10))\n",
        "    assert(model.loss(np.zeros((1, 64)), np.zeros(1)) > 0)\n",
        "except NotImplementedError:\n",
        "    raise NotImplementedError(\"You need to correctly implement the LogisticRegression class.\")\n",
        "except Exception as e:\n",
        "    print(f\"An unexpected error occurred: {e}\")"
      ]
    },
    {
      "cell_type": "code",
      "execution_count": 17,
      "metadata": {
        "id": "JBIwSkUFFiQz"
      },
      "outputs": [],
      "source": [
        "# Build a model and test its forward inference\n",
        "n_features = X_train.shape[1]\n",
        "n_classes = len(np.unique(y_train))\n",
        "lr = LogisticRegression(n_features, n_classes)"
      ]
    },
    {
      "cell_type": "markdown",
      "metadata": {
        "collapsed": false,
        "id": "uiWafwnYFiQz"
      },
      "source": [
        "We can evaluate the model on an example, visualizing the prediction probabilities:"
      ]
    },
    {
      "cell_type": "code",
      "execution_count": 18,
      "metadata": {
        "colab": {
          "base_uri": "https://localhost:8080/",
          "height": 410
        },
        "id": "DmZ864_8FiQz",
        "outputId": "2b16ceea-525e-4cbb-cac7-481adc05af15"
      },
      "outputs": [
        {
          "data": {
            "image/png": "[encoded data removed]",
            "text/plain": [
              "<Figure size 1000x400 with 2 Axes>"
            ]
          },
          "metadata": {},
          "output_type": "display_data"
        }
      ],
      "source": [
        "def plot_prediction(model, sample_idx=0, classes=range(10)):\n",
        "    fig, (ax0, ax1) = plt.subplots(nrows=1, ncols=2, figsize=(10, 4))\n",
        "\n",
        "    ax0.imshow(X_test[sample_idx:sample_idx+1].reshape(8, 8),\n",
        "               cmap=plt.cm.gray_r, interpolation='nearest')\n",
        "    ax0.set_title(\"True image label: %d\" % y_test[sample_idx]);\n",
        "\n",
        "\n",
        "    ax1.bar(classes, one_hot(len(classes), y_test[sample_idx]), label='true')\n",
        "    ax1.bar(classes, model.forward(X_test[sample_idx]), label='prediction', color=\"red\")\n",
        "    ax1.set_xticks(classes)\n",
        "    prediction = model.predict(X_test[sample_idx])\n",
        "    ax1.set_title('Output probabilities (prediction: %d)'\n",
        "                  % prediction)\n",
        "    ax1.set_xlabel('Digit class')\n",
        "    ax1.legend()\n",
        "\n",
        "plot_prediction(lr, sample_idx=0)\n"
      ]
    },
    {
      "cell_type": "markdown",
      "metadata": {
        "collapsed": false,
        "id": "cA4gz81tFiQz"
      },
      "source": [
        "Now it's time to start training! We will train for a single epoch, and then evaluate the model on the training and testing sets. Read through the following and make sure that you understand what we are doing here."
      ]
    },
    {
      "cell_type": "code",
      "execution_count": 19,
      "metadata": {
        "colab": {
          "base_uri": "https://localhost:8080/"
        },
        "id": "BM3Ny91hFiQz",
        "outputId": "a3d2bebd-5188-4ed8-c05f-fb62363d01f4"
      },
      "outputs": [
        {
          "name": "stdout",
          "output_type": "stream",
          "text": [
            "Average NLL over the last 100 samples at step 100: 261\n",
            "Average NLL over the last 100 samples at step 200: 216\n",
            "Average NLL over the last 100 samples at step 300: 89\n",
            "Average NLL over the last 100 samples at step 400: 226\n",
            "Average NLL over the last 100 samples at step 500: 138\n",
            "Average NLL over the last 100 samples at step 600: 206\n",
            "Average NLL over the last 100 samples at step 700: 157\n",
            "Average NLL over the last 100 samples at step 800: 87\n",
            "Average NLL over the last 100 samples at step 900: 69\n",
            "Average NLL over the last 100 samples at step 1000: 473\n",
            "Average NLL over the last 100 samples at step 1100: 96\n",
            "Average NLL over the last 100 samples at step 1200: 151\n",
            "Average NLL over the last 100 samples at step 1300: 97\n",
            "Average NLL over the last 100 samples at step 1400: 135\n",
            "Average NLL over the last 100 samples at step 1500: 63\n"
          ]
        }
      ],
      "source": [
        "lr = LogisticRegression(input_size=X_train.shape[1], output_size=10)\n",
        "\n",
        "learning_rate = 0.01\n",
        "\n",
        "for i in range(len(X_train)):\n",
        "    # Get the current sample and corresponding label\n",
        "    x = X_train[i:i+1]  # Reshape to keep the batch dimension\n",
        "    y = y_train[i:i+1]  # Reshape to keep the batch dimension\n",
        "\n",
        "    # Compute the forward pass and the gradient of the loss with respect to W and b\n",
        "    y_pred = lr.forward(x)\n",
        "    grad_W, grad_b = lr.grad_loss(x, one_hot(lr.output_size, y), y_pred)\n",
        "\n",
        "    # Update the weights and biases\n",
        "    lr.W -= learning_rate * grad_W\n",
        "    lr.b -= learning_rate * grad_b\n",
        "\n",
        "    # Print the average negative log likelihood every 100 steps (avoid empty slice at i==0)\n",
        "    if i > 0 and i % 100 == 0:\n",
        "        avg_nll = lr.loss(X_train[max(0, i-100):i], y_train[max(0, i-100):i])\n",
        "        print(\"Average NLL over the last 100 samples at step %d: %0.f\" % (i, avg_nll))\n"
      ]
    },
    {
      "cell_type": "markdown",
      "metadata": {
        "collapsed": false,
        "id": "fyGbf9l_FiQ0"
      },
      "source": [
        "Evaluate the trained model on the first example:"
      ]
    },
    {
      "cell_type": "code",
      "execution_count": 20,
      "metadata": {
        "colab": {
          "base_uri": "https://localhost:8080/",
          "height": 410
        },
        "id": "qfqwYLDmFiQ0",
        "outputId": "fa17855e-74ad-416f-e4bc-8171d71d1eca"
      },
      "outputs": [
        {
          "data": {
            "image/png": "[encoded data removed]",
            "text/plain": [
              "<Figure size 1000x400 with 2 Axes>"
            ]
          },
          "metadata": {},
          "output_type": "display_data"
        }
      ],
      "source": [
        "plot_prediction(lr, sample_idx=0)"
      ]
    },
    {
      "cell_type": "markdown",
      "metadata": {
        "id": "UBEWtmiGFiQ0"
      },
      "source": [
        "## b) Feedforward Multilayer\n",
        "\n",
        "The objective of this section is to implement the backpropagation algorithm (SGD with the chain rule) on a single layer neural network using the sigmoid activation function.\n",
        "\n",
        "Now it's your turn to\n",
        "\n",
        "- Implement the `sigmoid` and its element-wise derivative `dsigmoid` functions:\n",
        "\n",
        "$$\n",
        "sigmoid(x) = \\frac{1}{1 + e^{-x}}\n",
        "$$\n",
        "\n",
        "$$\n",
        "dsigmoid(x) = sigmoid(x) \\cdot (1 - sigmoid(x))\n",
        "$$\n",
        "\n",
        "Remember that you can use your `sigmoid` function inside your `dsigmoid` function.\n",
        "\n",
        "Just like with our softmax function, we also want to make sure that we don't run into stability issues with our sigmoid function. We will use `np.clip` to ensure that the input to the sigmoid function is not too large or too small."
      ]
    },
    {
      "cell_type": "code",
      "execution_count": 21,
      "metadata": {
        "colab": {
          "base_uri": "https://localhost:8080/",
          "height": 430
        },
        "id": "eaUPoUDeFiQ0",
        "outputId": "801c25b9-6400-429d-8d47-c67b783010e7"
      },
      "outputs": [
        {
          "data": {
            "image/png": "[encoded data removed]",
            "text/plain": [
              "<Figure size 640x480 with 1 Axes>"
            ]
          },
          "metadata": {},
          "output_type": "display_data"
        }
      ],
      "source": [
        "def sigmoid(X):\n",
        "    # Clip X to prevent overflow or underflow\n",
        "    X = np.clip(X, -500, 500) # This ensures that np.exp(X) doesn't overflow\n",
        "    return 1 / (1 + np.exp(-X))\n",
        "\n",
        "\n",
        "def dsigmoid(X):\n",
        "    return sigmoid(X) * (1 - sigmoid(X))\n",
        "\n",
        "\n",
        "x = np.linspace(-5, 5, 100)\n",
        "plt.plot(x, sigmoid(x), label='sigmoid')\n",
        "plt.plot(x, dsigmoid(x), label='dsigmoid')\n",
        "plt.legend(loc='best');"
      ]
    },
    {
      "cell_type": "markdown",
      "metadata": {
        "id": "fChpPqnlFiQ0"
      },
      "source": [
        "Now it's your turn to complete the neural network code, so that we can train it on the MNIST dataset.\n",
        "\n",
        "Some parts have been completed for you already. Often, you'll be able to refer back to the code from the previous section to help you complete the code in this section."
      ]
    },
    {
      "cell_type": "code",
      "execution_count": 22,
      "metadata": {
        "id": "nb2HoZXrFiQ_"
      },
      "outputs": [],
      "source": [
        "class NeuralNet():\n",
        "    \"\"\"MLP with 1 hidden layer with a sigmoid activation\"\"\"\n",
        "\n",
        "    def __init__(self, input_size, hidden_size, output_size):\n",
        "        # Initializes the weights with random numbers\n",
        "        self.W_h = np.random.uniform(size=(input_size, hidden_size),\n",
        "                                     high=0.1, low=-0.1)\n",
        "        self.b_h = np.random.uniform(size=hidden_size,\n",
        "                                     high=0.1, low=-0.1)\n",
        "        self.W_o = np.random.uniform(size=(hidden_size, output_size),\n",
        "                                     high=0.1, low=-0.1)\n",
        "        self.b_o = np.random.uniform(size=output_size,\n",
        "                                     high=0.1, low=-0.1)\n",
        "\n",
        "        # Store the input size, hidden size and output size\n",
        "        self.input_size = input_size\n",
        "        self.hidden_size = hidden_size\n",
        "        self.output_size = output_size\n",
        "\n",
        "    def forward_hidden(self, X):\n",
        "        # Compute the linear combination of the input and weights\n",
        "        self.Z_h = np.dot(X, self.W_h) + self.b_h\n",
        "\n",
        "        # Apply the sigmoid activation function\n",
        "        return sigmoid(self.Z_h)\n",
        "\n",
        "    def forward_output(self, H):\n",
        "        # Compute the linear combination of the hidden layer activation and weights\n",
        "        self.Z_o = np.dot(H, self.W_o) + self.b_o\n",
        "\n",
        "        # Apply the sigmoid activation function\n",
        "        return softmax(self.Z_o)\n",
        "\n",
        "    def forward(self, X):\n",
        "        # Compute the forward activations of the hidden and output layers\n",
        "        H = self.forward_hidden(X)\n",
        "        Y = self.forward_output(H)\n",
        "\n",
        "        return Y\n",
        "\n",
        "    def loss(self, X, y):\n",
        "        y = y.astype(int)\n",
        "        y_onehot = one_hot(self.output_size, y)\n",
        "        y_pred = self.forward(X)\n",
        "        return nll(y_onehot, y_pred)\n",
        "\n",
        "    def grad_loss(self, X, y_true):\n",
        "        y_true = one_hot(self.output_size, y_true)\n",
        "        y_pred = self.forward(X)\n",
        "\n",
        "        # Compute the error at the output layer\n",
        "        error_o = y_pred - y_true\n",
        "\n",
        "        # Compute the gradient of the loss with respect to W_o and b_o\n",
        "        grad_W_o = np.dot(self.Z_h.T, error_o)\n",
        "        grad_b_o = np.sum(error_o, axis=0)\n",
        "\n",
        "        # Compute the error at the hidden layer\n",
        "        error_h = np.dot(error_o, self.W_o.T) * dsigmoid(self.Z_h)\n",
        "\n",
        "        # Compute the gradient of the loss with respect to W_h and b_h\n",
        "        grad_W_h = np.dot(X.T, error_h)\n",
        "        grad_b_h = np.sum(error_h, axis=0)\n",
        "\n",
        "        return {\"W_h\": grad_W_h, \"b_h\": grad_b_h, \"W_o\": grad_W_o, \"b_o\": grad_b_o}\n",
        "\n",
        "    def train(self, x, y, learning_rate):\n",
        "        # Ensure x is 2D\n",
        "        x = x[np.newaxis, :]\n",
        "        # Compute the gradient for the sample and update the weights\n",
        "        grads = self.grad_loss(x, y)\n",
        "\n",
        "        self.W_h -= learning_rate * grads[\"W_h\"]\n",
        "        self.b_h -= learning_rate * grads[\"b_h\"]\n",
        "        self.W_o -= learning_rate * grads[\"W_o\"]\n",
        "        self.b_o -= learning_rate * grads[\"b_o\"]\n",
        "\n",
        "    def predict(self, X):\n",
        "        if len(X.shape) == 1:\n",
        "            return np.argmax(self.forward(X))\n",
        "        else:\n",
        "            return np.argmax(self.forward(X), axis=1)\n",
        "\n",
        "    def accuracy(self, X, y):\n",
        "        y_preds = np.argmax(self.forward(X), axis=1)\n",
        "        return np.mean(y_preds == y)\n",
        "\n",
        "# Raise an exception if you try to run this cell without having implemented the NeuralNet class\n",
        "nn = NeuralNet(input_size=64, hidden_size=32, output_size=10)\n",
        "try:\n",
        "    assert(nn.forward(np.zeros((1, 64))).shape == (1, 10))\n",
        "    assert(nn.loss(np.zeros((1, 64)), np.zeros(1)) > 0)\n",
        "except:\n",
        "    raise NotImplementedError(\"You need to correctly implement the NeuralNet class.\")"
      ]
    },
    {
      "cell_type": "markdown",
      "metadata": {
        "collapsed": false,
        "id": "5xLiUhpBFiRA"
      },
      "source": [
        "Once the code is written, we can test our model on a single sample:"
      ]
    },
    {
      "cell_type": "code",
      "execution_count": 23,
      "metadata": {
        "id": "aHKk8pyNFiRA"
      },
      "outputs": [],
      "source": [
        "n_hidden = 10\n",
        "model = NeuralNet(n_features, n_hidden, n_classes)"
      ]
    },
    {
      "cell_type": "code",
      "execution_count": 24,
      "metadata": {
        "colab": {
          "base_uri": "https://localhost:8080/"
        },
        "id": "CwE5A7-dFiRA",
        "outputId": "21ec36c1-ce4b-4cd1-8a71-ffde81199669"
      },
      "outputs": [
        {
          "data": {
            "text/plain": [
              "np.float64(3513.8555345759937)"
            ]
          },
          "execution_count": 24,
          "metadata": {},
          "output_type": "execute_result"
        }
      ],
      "source": [
        "model.loss(X_train, y_train)"
      ]
    },
    {
      "cell_type": "code",
      "execution_count": 25,
      "metadata": {
        "colab": {
          "base_uri": "https://localhost:8080/"
        },
        "id": "hEmunUrgFiRA",
        "outputId": "e3a92b62-0e59-4195-800b-6cc17f5f8362"
      },
      "outputs": [
        {
          "data": {
            "text/plain": [
              "np.float64(0.11263916175507531)"
            ]
          },
          "execution_count": 25,
          "metadata": {},
          "output_type": "execute_result"
        }
      ],
      "source": [
        "model.accuracy(X_train, y_train)"
      ]
    },
    {
      "cell_type": "code",
      "execution_count": 26,
      "metadata": {
        "colab": {
          "base_uri": "https://localhost:8080/",
          "height": 410
        },
        "id": "OcxU6QrNFiRA",
        "outputId": "80aa4d97-1ffa-4278-eead-0918b6b89f9e"
      },
      "outputs": [
        {
          "data": {
            "image/png": "[encoded data removed]",
            "text/plain": [
              "<Figure size 1000x400 with 2 Axes>"
            ]
          },
          "metadata": {},
          "output_type": "display_data"
        }
      ],
      "source": [
        "plot_prediction(model, sample_idx=5)"
      ]
    },
    {
      "cell_type": "markdown",
      "metadata": {
        "collapsed": false,
        "id": "CErJ01aDFiRA"
      },
      "source": [
        "And now it's time to train!"
      ]
    },
    {
      "cell_type": "code",
      "execution_count": 27,
      "metadata": {
        "colab": {
          "base_uri": "https://localhost:8080/"
        },
        "id": "CqnfGZx1FiRB",
        "outputId": "a8058b86-1382-4245-c0d9-9c5ef9863475"
      },
      "outputs": [
        {
          "name": "stdout",
          "output_type": "stream",
          "text": [
            "Random init: train loss: 3513.85553, train acc: 0.113, test acc: 0.122\n",
            "Epoch #1, train loss: 2637.79246, train acc: 0.445, test acc: 0.404\n",
            "Epoch #2, train loss: 1834.97029, train acc: 0.710, test acc: 0.667\n",
            "Epoch #3, train loss: 1315.14251, train acc: 0.792, test acc: 0.752\n",
            "Epoch #4, train loss: 1002.97383, train acc: 0.871, test acc: 0.819\n",
            "Epoch #5, train loss: 790.96592, train acc: 0.896, test acc: 0.867\n",
            "Epoch #6, train loss: 635.91982, train acc: 0.908, test acc: 0.881\n",
            "Epoch #7, train loss: 528.33823, train acc: 0.931, test acc: 0.907\n",
            "Epoch #8, train loss: 455.39177, train acc: 0.942, test acc: 0.922\n",
            "Epoch #9, train loss: 401.95406, train acc: 0.950, test acc: 0.930\n",
            "Epoch #10, train loss: 358.53733, train acc: 0.955, test acc: 0.930\n",
            "Epoch #11, train loss: 324.28091, train acc: 0.957, test acc: 0.930\n",
            "Epoch #12, train loss: 298.66178, train acc: 0.957, test acc: 0.933\n",
            "Epoch #13, train loss: 279.92050, train acc: 0.957, test acc: 0.937\n",
            "Epoch #14, train loss: 265.80220, train acc: 0.962, test acc: 0.937\n",
            "Epoch #15, train loss: 254.10080, train acc: 0.967, test acc: 0.937\n"
          ]
        }
      ],
      "source": [
        "losses, accuracies, accuracies_test = [], [], []\n",
        "losses.append(model.loss(X_train, y_train))\n",
        "accuracies.append(model.accuracy(X_train, y_train))\n",
        "accuracies_test.append(model.accuracy(X_test, y_test))\n",
        "\n",
        "print(\"Random init: train loss: %0.5f, train acc: %0.3f, test acc: %0.3f\"\n",
        "      % (losses[-1], accuracies[-1], accuracies_test[-1]))\n",
        "\n",
        "for epoch in range(15):\n",
        "    for i, (x, y) in enumerate(zip(X_train, y_train)):\n",
        "        model.train(x, y, 0.001)\n",
        "\n",
        "    losses.append(model.loss(X_train, y_train))\n",
        "    accuracies.append(model.accuracy(X_train, y_train))\n",
        "    accuracies_test.append(model.accuracy(X_test, y_test))\n",
        "    print(\"Epoch #%d, train loss: %0.5f, train acc: %0.3f, test acc: %0.3f\"\n",
        "          % (epoch + 1, losses[-1], accuracies[-1], accuracies_test[-1]))"
      ]
    },
    {
      "cell_type": "code",
      "execution_count": 28,
      "metadata": {
        "colab": {
          "base_uri": "https://localhost:8080/",
          "height": 452
        },
        "id": "R9dCzl3aFiRB",
        "outputId": "f6744724-aa7b-486f-d473-b22cb166608d"
      },
      "outputs": [
        {
          "data": {
            "image/png": "[encoded data removed]",
            "text/plain": [
              "<Figure size 640x480 with 1 Axes>"
            ]
          },
          "metadata": {},
          "output_type": "display_data"
        }
      ],
      "source": [
        "plt.plot(losses)\n",
        "plt.title(\"Training loss\");"
      ]
    },
    {
      "cell_type": "code",
      "execution_count": 29,
      "metadata": {
        "colab": {
          "base_uri": "https://localhost:8080/",
          "height": 430
        },
        "id": "MinuJTfRFiRB",
        "outputId": "0640bc42-fb6b-4081-9c6e-1ada820b7d01"
      },
      "outputs": [
        {
          "data": {
            "image/png": "[encoded data removed]",
            "text/plain": [
              "<Figure size 640x480 with 1 Axes>"
            ]
          },
          "metadata": {},
          "output_type": "display_data"
        }
      ],
      "source": [
        "plt.plot(accuracies, label='train')\n",
        "plt.plot(accuracies_test, label='test')\n",
        "plt.ylim(0, 1.1)\n",
        "plt.ylabel(\"accuracy\")\n",
        "plt.legend(loc='best');"
      ]
    },
    {
      "cell_type": "code",
      "execution_count": 30,
      "metadata": {
        "colab": {
          "base_uri": "https://localhost:8080/",
          "height": 410
        },
        "id": "9Ksa9GDFFiRB",
        "outputId": "82bde55d-c558-4b1f-936a-efd3187e0142"
      },
      "outputs": [
        {
          "data": {
            "image/png": "[encoded data removed]",
            "text/plain": [
              "<Figure size 1000x400 with 2 Axes>"
            ]
          },
          "metadata": {},
          "output_type": "display_data"
        }
      ],
      "source": [
        "plot_prediction(model, sample_idx=4)"
      ]
    },
    {
      "cell_type": "markdown",
      "metadata": {
        "id": "4k5oBMvsFiRB"
      },
      "source": [
        "## c) Exercises\n",
        "\n",
        "### Look at worst prediction errors\n",
        "\n",
        "- Use numpy to find test samples for which the model made the worst predictions,\n",
        "- Use the `plot_prediction` to look at the model predictions on those,\n",
        "- Would you have done any better?"
      ]
    },
    {
      "cell_type": "code",
      "execution_count": 31,
      "metadata": {
        "colab": {
          "base_uri": "https://localhost:8080/",
          "height": 1000
        },
        "id": "5a1df71d",
        "outputId": "1d0ca064-e5be-49c5-f42b-c7aa0b58455b"
      },
      "outputs": [
        {
          "name": "stdout",
          "output_type": "stream",
          "text": [
            "Worst predictions: [170  69 244  99 107]\n"
          ]
        },
        {
          "data": {
            "image/png": "[encoded data removed]",
            "text/plain": [
              "<Figure size 1000x400 with 2 Axes>"
            ]
          },
          "metadata": {},
          "output_type": "display_data"
        },
        {
          "data": {
            "image/png": "[encoded data removed]",
            "text/plain": [
              "<Figure size 1000x400 with 2 Axes>"
            ]
          },
          "metadata": {},
          "output_type": "display_data"
        },
        {
          "data": {
            "image/png": "[encoded data removed]",
            "text/plain": [
              "<Figure size 1000x400 with 2 Axes>"
            ]
          },
          "metadata": {},
          "output_type": "display_data"
        },
        {
          "data": {
            "image/png": "[encoded data removed]",
            "text/plain": [
              "<Figure size 1000x400 with 2 Axes>"
            ]
          },
          "metadata": {},
          "output_type": "display_data"
        },
        {
          "data": {
            "image/png": "[encoded data removed]",
            "text/plain": [
              "<Figure size 1000x400 with 2 Axes>"
            ]
          },
          "metadata": {},
          "output_type": "display_data"
        }
      ],
      "source": [
        "# Calculate the loss for each test sample\n",
        "test_losses = []\n",
        "for i in range(len(X_test)):\n",
        "    loss = model.loss(X_test[i:i+1], y_test[i:i+1])\n",
        "    test_losses.append(loss)\n",
        "\n",
        "# Find the indices of the samples with the highest loss (worst predictions)\n",
        "worst_predictions_indices = np.argsort(test_losses)[-5:] # Get the top 5 worst predictions\n",
        "\n",
        "print(\"Worst predictions:\", worst_predictions_indices)\n",
        "\n",
        "# Plot the worst predictions\n",
        "for idx in worst_predictions_indices:\n",
        "    plot_prediction(model, sample_idx=idx)"
      ]
    },
    {
      "cell_type": "markdown",
      "metadata": {
        "id": "eRlb6RCNFiRC"
      },
      "source": [
        "### Hyper parameters settings\n",
        "\n",
        "- Experiment with different hyperparameters:\n",
        "  - learning rate,\n",
        "  - size of hidden layer,\n",
        "  - implement the support for a second hidden layer.\n",
        "  - What is the best test accuracy you can get?"
      ]
    },
    {
      "cell_type": "code",
      "execution_count": 32,
      "metadata": {
        "id": "9aab447a"
      },
      "outputs": [],
      "source": [
        "class NeuralNet():\n",
        "    \"\"\"MLP with 2 hidden layers with sigmoid activation\"\"\"\n",
        "\n",
        "    def __init__(self, input_size, hidden_size1, hidden_size2, output_size):\n",
        "        # Initializes the weights and biases with random numbers for the first hidden layer\n",
        "        self.W_h1 = np.random.uniform(size=(input_size, hidden_size1),\n",
        "                                     high=0.1, low=-0.1)\n",
        "        self.b_h1 = np.random.uniform(size=hidden_size1,\n",
        "                                     high=0.1, low=-0.1)\n",
        "\n",
        "        # Initializes the weights and biases for the second hidden layer\n",
        "        self.W_h2 = np.random.uniform(size=(hidden_size1, hidden_size2),\n",
        "                                     high=0.1, low=-0.1)\n",
        "        self.b_h2 = np.random.uniform(size=hidden_size2,\n",
        "                                     high=0.1, low=-0.1)\n",
        "\n",
        "        # Initializes the weights and biases for the output layer\n",
        "        self.W_o = np.random.uniform(size=(hidden_size2, output_size),\n",
        "                                     high=0.1, low=-0.1)\n",
        "        self.b_o = np.random.uniform(size=output_size,\n",
        "                                     high=0.1, low=-0.1)\n",
        "\n",
        "        # Store the sizes\n",
        "        self.input_size = input_size\n",
        "        self.hidden_size1 = hidden_size1\n",
        "        self.hidden_size2 = hidden_size2\n",
        "        self.output_size = output_size\n",
        "\n",
        "    def forward_hidden1(self, X):\n",
        "        # Compute the linear combination of the input and weights for the first hidden layer\n",
        "        self.Z_h1 = np.dot(X, self.W_h1) + self.b_h1\n",
        "        # Apply the sigmoid activation function\n",
        "        return sigmoid(self.Z_h1)\n",
        "\n",
        "    def forward_hidden2(self, H1):\n",
        "        # Compute the linear combination of the first hidden layer activation and weights for the second hidden layer\n",
        "        self.Z_h2 = np.dot(H1, self.W_h2) + self.b_h2\n",
        "        # Apply the sigmoid activation function\n",
        "        return sigmoid(self.Z_h2)\n",
        "\n",
        "\n",
        "    def forward_output(self, H2):\n",
        "        # Compute the linear combination of the second hidden layer activation and weights\n",
        "        self.Z_o = np.dot(H2, self.W_o) + self.b_o\n",
        "        # Apply the softmax activation function\n",
        "        return softmax(self.Z_o)\n",
        "\n",
        "    def forward(self, X):\n",
        "        # Compute the forward activations of the hidden and output layers\n",
        "        H1 = self.forward_hidden1(X)\n",
        "        H2 = self.forward_hidden2(H1)\n",
        "        Y = self.forward_output(H2)\n",
        "        return Y\n",
        "\n",
        "    def loss(self, X, y):\n",
        "        y = y.astype(int)\n",
        "        y_onehot = one_hot(self.output_size, y)\n",
        "        y_pred = self.forward(X)\n",
        "        return nll(y_onehot, y_pred)\n",
        "\n",
        "    def grad_loss(self, X, y_true):\n",
        "        y_true = one_hot(self.output_size, y_true)\n",
        "        y_pred = self.forward(X)\n",
        "\n",
        "        # Compute the error at the output layer\n",
        "        error_o = y_pred - y_true\n",
        "\n",
        "        # Compute the gradient of the loss with respect to W_o and b_o\n",
        "        grad_W_o = np.dot(self.forward_hidden2(self.forward_hidden1(X)).T, error_o)\n",
        "        grad_b_o = np.sum(error_o, axis=0)\n",
        "\n",
        "        # Compute the error at the second hidden layer\n",
        "        error_h2 = np.dot(error_o, self.W_o.T) * dsigmoid(self.Z_h2)\n",
        "\n",
        "        # Compute the gradient of the loss with respect to W_h2 and b_h2\n",
        "        grad_W_h2 = np.dot(self.forward_hidden1(X).T, error_h2)\n",
        "        grad_b_h2 = np.sum(error_h2, axis=0)\n",
        "\n",
        "\n",
        "        # Compute the error at the first hidden layer\n",
        "        error_h1 = np.dot(error_h2, self.W_h2.T) * dsigmoid(self.Z_h1)\n",
        "\n",
        "        # Compute the gradient of the loss with respect to W_h1 and b_h1\n",
        "        grad_W_h1 = np.dot(X.T, error_h1)\n",
        "        grad_b_h1 = np.sum(error_h1, axis=0)\n",
        "\n",
        "\n",
        "        return {\"W_h1\": grad_W_h1, \"b_h1\": grad_b_h1,\n",
        "                \"W_h2\": grad_W_h2, \"b_h2\": grad_b_h2,\n",
        "                \"W_o\": grad_W_o, \"b_o\": grad_b_o}\n",
        "\n",
        "    def train(self, x, y, learning_rate):\n",
        "        # Ensure x is 2D\n",
        "        x = x[np.newaxis, :]\n",
        "        # Compute the gradient for the sample and update the weights\n",
        "        grads = self.grad_loss(x, y)\n",
        "\n",
        "        self.W_h1 -= learning_rate * grads[\"W_h1\"]\n",
        "        self.b_h1 -= learning_rate * grads[\"b_h1\"]\n",
        "        self.W_h2 -= learning_rate * grads[\"W_h2\"]\n",
        "        self.b_h2 -= learning_rate * grads[\"b_h2\"]\n",
        "        self.W_o -= learning_rate * grads[\"W_o\"]\n",
        "        self.b_o -= learning_rate * grads[\"b_o\"]\n",
        "\n",
        "\n",
        "    def predict(self, X):\n",
        "        if len(X.shape) == 1:\n",
        "            return np.argmax(self.forward(X))\n",
        "        else:\n",
        "            return np.argmax(self.forward(X), axis=1)\n",
        "\n",
        "    def accuracy(self, X, y):\n",
        "        y_preds = np.argmax(self.forward(X), axis=1)\n",
        "        return np.mean(y_preds == y)\n",
        "\n",
        "# Test the updated NeuralNet class\n",
        "try:\n",
        "    nn = NeuralNet(input_size=64, hidden_size1=32, hidden_size2=16, output_size=10)\n",
        "    assert(nn.forward(np.zeros((1, 64))).shape == (1, 10))\n",
        "    assert(nn.loss(np.zeros((1, 64)), np.zeros(1)) > 0)\n",
        "except NotImplementedError:\n",
        "    raise NotImplementedError(\"You need to correctly implement the NeuralNet class.\")\n",
        "except Exception as e:\n",
        "    print(f\"An unexpected error occurred during testing: {e}\")"
      ]
    },
    {
      "cell_type": "code",
      "execution_count": 33,
      "metadata": {
        "colab": {
          "base_uri": "https://localhost:8080/"
        },
        "id": "0b5feca4",
        "outputId": "436fec29-ca83-4a63-f726-ccd6188aaa56"
      },
      "outputs": [
        {
          "name": "stdout",
          "output_type": "stream",
          "text": [
            "{'learning_rates': [0.001, 0.01, 0.1], 'hidden_layer_sizes': [{'hidden_size1': 32, 'hidden_size2': 0}, {'hidden_size1': 64, 'hidden_size2': 0}, {'hidden_size1': 32, 'hidden_size2': 16}, {'hidden_size1': 32, 'hidden_size2': 32}, {'hidden_size1': 64, 'hidden_size2': 32}, {'hidden_size1': 64, 'hidden_size2': 64}], 'epochs': [10, 15, 20]}\n"
          ]
        }
      ],
      "source": [
        "# Hyper parameters settings\n",
        "# Adjusting: learning rates, sizes of hidden layers and epochs.\n",
        "\n",
        "hyperparameters = {\n",
        "    \"learning_rates\": [0.001, 0.01, 0.1],\n",
        "    \"hidden_layer_sizes\": [\n",
        "        {\"hidden_size1\": 32, \"hidden_size2\": 0},  # Single hidden layer\n",
        "        {\"hidden_size1\": 64, \"hidden_size2\": 0},  # Single hidden layer\n",
        "        {\"hidden_size1\": 32, \"hidden_size2\": 16}, # Two hidden layers, decreasing size\n",
        "        {\"hidden_size1\": 32, \"hidden_size2\": 32}, # Two hidden layers, equal size\n",
        "        {\"hidden_size1\": 64, \"hidden_size2\": 32}, # Two hidden layers, decreasing size\n",
        "        {\"hidden_size1\": 64, \"hidden_size2\": 64}, # Two hidden layers, equal size\n",
        "    ],\n",
        "    \"epochs\": [10, 15, 20] # Number of training epochs\n",
        "}\n",
        "\n",
        "print(hyperparameters)"
      ]
    },
    {
      "cell_type": "code",
      "execution_count": 34,
      "metadata": {
        "colab": {
          "base_uri": "https://localhost:8080/"
        },
        "id": "c8e4f681",
        "outputId": "5759fe51-1233-455d-9f5e-7b734a512ab3"
      },
      "outputs": [
        {
          "name": "stdout",
          "output_type": "stream",
          "text": [
            "Training with: Learning Rate = 0.001, Hidden Layers = (32, 0), Epochs = 10\n",
            "Test Accuracy: 0.063\n",
            "Training with: Learning Rate = 0.001, Hidden Layers = (32, 0), Epochs = 15\n",
            "Test Accuracy: 0.063\n",
            "Training with: Learning Rate = 0.001, Hidden Layers = (32, 0), Epochs = 20\n",
            "Test Accuracy: 0.063\n",
            "Training with: Learning Rate = 0.001, Hidden Layers = (64, 0), Epochs = 10\n",
            "Test Accuracy: 0.063\n",
            "Training with: Learning Rate = 0.001, Hidden Layers = (64, 0), Epochs = 15\n",
            "Test Accuracy: 0.063\n",
            "Training with: Learning Rate = 0.001, Hidden Layers = (64, 0), Epochs = 20\n",
            "Test Accuracy: 0.063\n",
            "Training with: Learning Rate = 0.001, Hidden Layers = (32, 16), Epochs = 10\n",
            "Test Accuracy: 0.063\n",
            "Training with: Learning Rate = 0.001, Hidden Layers = (32, 16), Epochs = 15\n",
            "Test Accuracy: 0.230\n",
            "Training with: Learning Rate = 0.001, Hidden Layers = (32, 16), Epochs = 20\n",
            "Test Accuracy: 0.296\n",
            "Training with: Learning Rate = 0.001, Hidden Layers = (32, 32), Epochs = 10\n",
            "Test Accuracy: 0.067\n",
            "Training with: Learning Rate = 0.001, Hidden Layers = (32, 32), Epochs = 15\n",
            "Test Accuracy: 0.252\n",
            "Training with: Learning Rate = 0.001, Hidden Layers = (32, 32), Epochs = 20\n",
            "Test Accuracy: 0.452\n",
            "Training with: Learning Rate = 0.001, Hidden Layers = (64, 32), Epochs = 10\n",
            "Test Accuracy: 0.215\n",
            "Training with: Learning Rate = 0.001, Hidden Layers = (64, 32), Epochs = 15\n",
            "Test Accuracy: 0.467\n",
            "Training with: Learning Rate = 0.001, Hidden Layers = (64, 32), Epochs = 20\n",
            "Test Accuracy: 0.633\n",
            "Training with: Learning Rate = 0.001, Hidden Layers = (64, 64), Epochs = 10\n",
            "Test Accuracy: 0.393\n",
            "Training with: Learning Rate = 0.001, Hidden Layers = (64, 64), Epochs = 15\n",
            "Test Accuracy: 0.548\n",
            "Training with: Learning Rate = 0.001, Hidden Layers = (64, 64), Epochs = 20\n",
            "Test Accuracy: 0.722\n",
            "Training with: Learning Rate = 0.01, Hidden Layers = (32, 0), Epochs = 10\n",
            "Test Accuracy: 0.063\n",
            "Training with: Learning Rate = 0.01, Hidden Layers = (32, 0), Epochs = 15\n",
            "Test Accuracy: 0.063\n",
            "Training with: Learning Rate = 0.01, Hidden Layers = (32, 0), Epochs = 20\n",
            "Test Accuracy: 0.063\n",
            "Training with: Learning Rate = 0.01, Hidden Layers = (64, 0), Epochs = 10\n",
            "Test Accuracy: 0.063\n",
            "Training with: Learning Rate = 0.01, Hidden Layers = (64, 0), Epochs = 15\n",
            "Test Accuracy: 0.063\n",
            "Training with: Learning Rate = 0.01, Hidden Layers = (64, 0), Epochs = 20\n",
            "Test Accuracy: 0.063\n",
            "Training with: Learning Rate = 0.01, Hidden Layers = (32, 16), Epochs = 10\n",
            "Test Accuracy: 0.937\n",
            "Training with: Learning Rate = 0.01, Hidden Layers = (32, 16), Epochs = 15\n",
            "Test Accuracy: 0.944\n",
            "Training with: Learning Rate = 0.01, Hidden Layers = (32, 16), Epochs = 20\n",
            "Test Accuracy: 0.933\n",
            "Training with: Learning Rate = 0.01, Hidden Layers = (32, 32), Epochs = 10\n",
            "Test Accuracy: 0.926\n",
            "Training with: Learning Rate = 0.01, Hidden Layers = (32, 32), Epochs = 15\n",
            "Test Accuracy: 0.937\n",
            "Training with: Learning Rate = 0.01, Hidden Layers = (32, 32), Epochs = 20\n",
            "Test Accuracy: 0.959\n",
            "Training with: Learning Rate = 0.01, Hidden Layers = (64, 32), Epochs = 10\n",
            "Test Accuracy: 0.941\n",
            "Training with: Learning Rate = 0.01, Hidden Layers = (64, 32), Epochs = 15\n",
            "Test Accuracy: 0.967\n",
            "Training with: Learning Rate = 0.01, Hidden Layers = (64, 32), Epochs = 20\n",
            "Test Accuracy: 0.967\n",
            "Training with: Learning Rate = 0.01, Hidden Layers = (64, 64), Epochs = 10\n",
            "Test Accuracy: 0.956\n",
            "Training with: Learning Rate = 0.01, Hidden Layers = (64, 64), Epochs = 15\n",
            "Test Accuracy: 0.978\n",
            "Training with: Learning Rate = 0.01, Hidden Layers = (64, 64), Epochs = 20\n",
            "Test Accuracy: 0.974\n",
            "Training with: Learning Rate = 0.1, Hidden Layers = (32, 0), Epochs = 10\n",
            "Test Accuracy: 0.089\n",
            "Training with: Learning Rate = 0.1, Hidden Layers = (32, 0), Epochs = 15\n",
            "Test Accuracy: 0.089\n",
            "Training with: Learning Rate = 0.1, Hidden Layers = (32, 0), Epochs = 20\n",
            "Test Accuracy: 0.089\n",
            "Training with: Learning Rate = 0.1, Hidden Layers = (64, 0), Epochs = 10\n",
            "Test Accuracy: 0.089\n",
            "Training with: Learning Rate = 0.1, Hidden Layers = (64, 0), Epochs = 15\n",
            "Test Accuracy: 0.089\n",
            "Training with: Learning Rate = 0.1, Hidden Layers = (64, 0), Epochs = 20\n",
            "Test Accuracy: 0.089\n",
            "Training with: Learning Rate = 0.1, Hidden Layers = (32, 16), Epochs = 10\n",
            "Test Accuracy: 0.400\n",
            "Training with: Learning Rate = 0.1, Hidden Layers = (32, 16), Epochs = 15\n",
            "Test Accuracy: 0.659\n",
            "Training with: Learning Rate = 0.1, Hidden Layers = (32, 16), Epochs = 20\n",
            "Test Accuracy: 0.689\n",
            "Training with: Learning Rate = 0.1, Hidden Layers = (32, 32), Epochs = 10\n",
            "Test Accuracy: 0.544\n",
            "Training with: Learning Rate = 0.1, Hidden Layers = (32, 32), Epochs = 15\n",
            "Test Accuracy: 0.489\n",
            "Training with: Learning Rate = 0.1, Hidden Layers = (32, 32), Epochs = 20\n",
            "Test Accuracy: 0.685\n",
            "Training with: Learning Rate = 0.1, Hidden Layers = (64, 32), Epochs = 10\n",
            "Test Accuracy: 0.644\n",
            "Training with: Learning Rate = 0.1, Hidden Layers = (64, 32), Epochs = 15\n",
            "Test Accuracy: 0.522\n",
            "Training with: Learning Rate = 0.1, Hidden Layers = (64, 32), Epochs = 20\n",
            "Test Accuracy: 0.785\n",
            "Training with: Learning Rate = 0.1, Hidden Layers = (64, 64), Epochs = 10\n",
            "Test Accuracy: 0.637\n",
            "Training with: Learning Rate = 0.1, Hidden Layers = (64, 64), Epochs = 15\n",
            "Test Accuracy: 0.448\n",
            "Training with: Learning Rate = 0.1, Hidden Layers = (64, 64), Epochs = 20\n",
            "Test Accuracy: 0.641\n"
          ]
        }
      ],
      "source": [
        "# with each combination and evaluating its performance on the test set.\n",
        "# Iterating through the different hyperparameter combinations training a new NeuralNet model\n",
        "\n",
        "results = []\n",
        "\n",
        "for learning_rate in hyperparameters[\"learning_rates\"]:\n",
        "    for hidden_layer_config in hyperparameters[\"hidden_layer_sizes\"]:\n",
        "        for epochs in hyperparameters[\"epochs\"]:\n",
        "            hidden_size1 = hidden_layer_config[\"hidden_size1\"]\n",
        "            hidden_size2 = hidden_layer_config[\"hidden_size2\"]\n",
        "\n",
        "            print(f\"Training with: Learning Rate = {learning_rate}, Hidden Layers = ({hidden_size1}, {hidden_size2}), Epochs = {epochs}\")\n",
        "\n",
        "            if hidden_size2 == 0:\n",
        "                model = NeuralNet(n_features, hidden_size1, 0, n_classes)\n",
        "            else:\n",
        "                model = NeuralNet(n_features, hidden_size1, hidden_size2, n_classes)\n",
        "\n",
        "            for epoch in range(epochs):\n",
        "                for i, (x, y) in enumerate(zip(X_train, y_train)):\n",
        "                    model.train(x, y, learning_rate)\n",
        "\n",
        "            test_accuracy = model.accuracy(X_test, y_test)\n",
        "            results.append({\n",
        "                \"learning_rate\": learning_rate,\n",
        "                \"hidden_layer_sizes\": (hidden_size1, hidden_size2),\n",
        "                \"epochs\": epochs,\n",
        "                \"test_accuracy\": test_accuracy\n",
        "            })\n",
        "            print(f\"Test Accuracy: {test_accuracy:.3f}\")\n"
      ]
    },
    {
      "cell_type": "code",
      "execution_count": 37,
      "metadata": {
        "colab": {
          "base_uri": "https://localhost:8080/",
          "height": 1000
        },
        "id": "2efea145",
        "outputId": "b01418d0-bbe7-49dd-8c5f-0092827b912d"
      },
      "outputs": [
        {
          "data": {
            "application/vnd.google.colaboratory.intrinsic+json": {
              "summary": "{\n  \"name\": \"display(results_df\",\n  \"rows\": 54,\n  \"fields\": [\n    {\n      \"column\": \"learning_rate\",\n      \"properties\": {\n        \"dtype\": \"number\",\n        \"std\": 0.04511871134249678,\n        \"min\": 0.001,\n        \"max\": 0.1,\n        \"num_unique_values\": 3,\n        \"samples\": [\n          0.01,\n          0.1,\n          0.001\n        ],\n        \"semantic_type\": \"\",\n        \"description\": \"\"\n      }\n    },\n    {\n      \"column\": \"hidden_layer_sizes\",\n      \"properties\": {\n        \"dtype\": \"category\",\n        \"num_unique_values\": 6,\n        \"samples\": [\n          [\n            64,\n            64\n          ],\n          [\n            64,\n            32\n          ],\n          [\n            64,\n            0\n          ]\n        ],\n        \"semantic_type\": \"\",\n        \"description\": \"\"\n      }\n    },\n    {\n      \"column\": \"epochs\",\n      \"properties\": {\n        \"dtype\": \"number\",\n        \"std\": 4,\n        \"min\": 10,\n        \"max\": 20,\n        \"num_unique_values\": 3,\n        \"samples\": [\n          15,\n          20,\n          10\n        ],\n        \"semantic_type\": \"\",\n        \"description\": \"\"\n      }\n    },\n    {\n      \"column\": \"test_accuracy\",\n      \"properties\": {\n        \"dtype\": \"number\",\n        \"std\": 0.3524008491749039,\n        \"min\": 0.06296296296296296,\n        \"max\": 0.9777777777777777,\n        \"num_unique_values\": 35,\n        \"samples\": [\n          0.4,\n          0.6851851851851852,\n          0.45185185185185184\n        ],\n        \"semantic_type\": \"\",\n        \"description\": \"\"\n      }\n    }\n  ]\n}",
              "type": "dataframe"
            },
            "text/html": [
              "\n",
              "  <div id=\"df-100bcd2c-3237-42cf-92d1-5efd0b0ce98d\" class=\"colab-df-container\">\n",
              "    <div>\n",
              "<style scoped>\n",
              "    .dataframe tbody tr th:only-of-type {\n",
              "        vertical-align: middle;\n",
              "    }\n",
              "\n",
              "    .dataframe tbody tr th {\n",
              "        vertical-align: top;\n",
              "    }\n",
              "\n",
              "    .dataframe thead th {\n",
              "        text-align: right;\n",
              "    }\n",
              "</style>\n",
              "<table border=\"1\" class=\"dataframe\">\n",
              "  <thead>\n",
              "    <tr style=\"text-align: right;\">\n",
              "      <th></th>\n",
              "      <th>learning_rate</th>\n",
              "      <th>hidden_layer_sizes</th>\n",
              "      <th>epochs</th>\n",
              "      <th>test_accuracy</th>\n",
              "    </tr>\n",
              "  </thead>\n",
              "  <tbody>\n",
              "    <tr>\n",
              "      <th>34</th>\n",
              "      <td>0.010</td>\n",
              "      <td>(64, 64)</td>\n",
              "      <td>15</td>\n",
              "      <td>0.977778</td>\n",
              "    </tr>\n",
              "    <tr>\n",
              "      <th>35</th>\n",
              "      <td>0.010</td>\n",
              "      <td>(64, 64)</td>\n",
              "      <td>20</td>\n",
              "      <td>0.974074</td>\n",
              "    </tr>\n",
              "    <tr>\n",
              "      <th>31</th>\n",
              "      <td>0.010</td>\n",
              "      <td>(64, 32)</td>\n",
              "      <td>15</td>\n",
              "      <td>0.966667</td>\n",
              "    </tr>\n",
              "    <tr>\n",
              "      <th>32</th>\n",
              "      <td>0.010</td>\n",
              "      <td>(64, 32)</td>\n",
              "      <td>20</td>\n",
              "      <td>0.966667</td>\n",
              "    </tr>\n",
              "    <tr>\n",
              "      <th>29</th>\n",
              "      <td>0.010</td>\n",
              "      <td>(32, 32)</td>\n",
              "      <td>20</td>\n",
              "      <td>0.959259</td>\n",
              "    </tr>\n",
              "    <tr>\n",
              "      <th>33</th>\n",
              "      <td>0.010</td>\n",
              "      <td>(64, 64)</td>\n",
              "      <td>10</td>\n",
              "      <td>0.955556</td>\n",
              "    </tr>\n",
              "    <tr>\n",
              "      <th>25</th>\n",
              "      <td>0.010</td>\n",
              "      <td>(32, 16)</td>\n",
              "      <td>15</td>\n",
              "      <td>0.944444</td>\n",
              "    </tr>\n",
              "    <tr>\n",
              "      <th>30</th>\n",
              "      <td>0.010</td>\n",
              "      <td>(64, 32)</td>\n",
              "      <td>10</td>\n",
              "      <td>0.940741</td>\n",
              "    </tr>\n",
              "    <tr>\n",
              "      <th>28</th>\n",
              "      <td>0.010</td>\n",
              "      <td>(32, 32)</td>\n",
              "      <td>15</td>\n",
              "      <td>0.937037</td>\n",
              "    </tr>\n",
              "    <tr>\n",
              "      <th>24</th>\n",
              "      <td>0.010</td>\n",
              "      <td>(32, 16)</td>\n",
              "      <td>10</td>\n",
              "      <td>0.937037</td>\n",
              "    </tr>\n",
              "    <tr>\n",
              "      <th>26</th>\n",
              "      <td>0.010</td>\n",
              "      <td>(32, 16)</td>\n",
              "      <td>20</td>\n",
              "      <td>0.933333</td>\n",
              "    </tr>\n",
              "    <tr>\n",
              "      <th>27</th>\n",
              "      <td>0.010</td>\n",
              "      <td>(32, 32)</td>\n",
              "      <td>10</td>\n",
              "      <td>0.925926</td>\n",
              "    </tr>\n",
              "    <tr>\n",
              "      <th>50</th>\n",
              "      <td>0.100</td>\n",
              "      <td>(64, 32)</td>\n",
              "      <td>20</td>\n",
              "      <td>0.785185</td>\n",
              "    </tr>\n",
              "    <tr>\n",
              "      <th>17</th>\n",
              "      <td>0.001</td>\n",
              "      <td>(64, 64)</td>\n",
              "      <td>20</td>\n",
              "      <td>0.722222</td>\n",
              "    </tr>\n",
              "    <tr>\n",
              "      <th>44</th>\n",
              "      <td>0.100</td>\n",
              "      <td>(32, 16)</td>\n",
              "      <td>20</td>\n",
              "      <td>0.688889</td>\n",
              "    </tr>\n",
              "    <tr>\n",
              "      <th>47</th>\n",
              "      <td>0.100</td>\n",
              "      <td>(32, 32)</td>\n",
              "      <td>20</td>\n",
              "      <td>0.685185</td>\n",
              "    </tr>\n",
              "    <tr>\n",
              "      <th>43</th>\n",
              "      <td>0.100</td>\n",
              "      <td>(32, 16)</td>\n",
              "      <td>15</td>\n",
              "      <td>0.659259</td>\n",
              "    </tr>\n",
              "    <tr>\n",
              "      <th>48</th>\n",
              "      <td>0.100</td>\n",
              "      <td>(64, 32)</td>\n",
              "      <td>10</td>\n",
              "      <td>0.644444</td>\n",
              "    </tr>\n",
              "    <tr>\n",
              "      <th>53</th>\n",
              "      <td>0.100</td>\n",
              "      <td>(64, 64)</td>\n",
              "      <td>20</td>\n",
              "      <td>0.640741</td>\n",
              "    </tr>\n",
              "    <tr>\n",
              "      <th>51</th>\n",
              "      <td>0.100</td>\n",
              "      <td>(64, 64)</td>\n",
              "      <td>10</td>\n",
              "      <td>0.637037</td>\n",
              "    </tr>\n",
              "    <tr>\n",
              "      <th>14</th>\n",
              "      <td>0.001</td>\n",
              "      <td>(64, 32)</td>\n",
              "      <td>20</td>\n",
              "      <td>0.633333</td>\n",
              "    </tr>\n",
              "    <tr>\n",
              "      <th>16</th>\n",
              "      <td>0.001</td>\n",
              "      <td>(64, 64)</td>\n",
              "      <td>15</td>\n",
              "      <td>0.548148</td>\n",
              "    </tr>\n",
              "    <tr>\n",
              "      <th>45</th>\n",
              "      <td>0.100</td>\n",
              "      <td>(32, 32)</td>\n",
              "      <td>10</td>\n",
              "      <td>0.544444</td>\n",
              "    </tr>\n",
              "    <tr>\n",
              "      <th>49</th>\n",
              "      <td>0.100</td>\n",
              "      <td>(64, 32)</td>\n",
              "      <td>15</td>\n",
              "      <td>0.522222</td>\n",
              "    </tr>\n",
              "    <tr>\n",
              "      <th>46</th>\n",
              "      <td>0.100</td>\n",
              "      <td>(32, 32)</td>\n",
              "      <td>15</td>\n",
              "      <td>0.488889</td>\n",
              "    </tr>\n",
              "    <tr>\n",
              "      <th>13</th>\n",
              "      <td>0.001</td>\n",
              "      <td>(64, 32)</td>\n",
              "      <td>15</td>\n",
              "      <td>0.466667</td>\n",
              "    </tr>\n",
              "    <tr>\n",
              "      <th>11</th>\n",
              "      <td>0.001</td>\n",
              "      <td>(32, 32)</td>\n",
              "      <td>20</td>\n",
              "      <td>0.451852</td>\n",
              "    </tr>\n",
              "    <tr>\n",
              "      <th>52</th>\n",
              "      <td>0.100</td>\n",
              "      <td>(64, 64)</td>\n",
              "      <td>15</td>\n",
              "      <td>0.448148</td>\n",
              "    </tr>\n",
              "    <tr>\n",
              "      <th>42</th>\n",
              "      <td>0.100</td>\n",
              "      <td>(32, 16)</td>\n",
              "      <td>10</td>\n",
              "      <td>0.400000</td>\n",
              "    </tr>\n",
              "    <tr>\n",
              "      <th>15</th>\n",
              "      <td>0.001</td>\n",
              "      <td>(64, 64)</td>\n",
              "      <td>10</td>\n",
              "      <td>0.392593</td>\n",
              "    </tr>\n",
              "    <tr>\n",
              "      <th>8</th>\n",
              "      <td>0.001</td>\n",
              "      <td>(32, 16)</td>\n",
              "      <td>20</td>\n",
              "      <td>0.296296</td>\n",
              "    </tr>\n",
              "    <tr>\n",
              "      <th>10</th>\n",
              "      <td>0.001</td>\n",
              "      <td>(32, 32)</td>\n",
              "      <td>15</td>\n",
              "      <td>0.251852</td>\n",
              "    </tr>\n",
              "    <tr>\n",
              "      <th>7</th>\n",
              "      <td>0.001</td>\n",
              "      <td>(32, 16)</td>\n",
              "      <td>15</td>\n",
              "      <td>0.229630</td>\n",
              "    </tr>\n",
              "    <tr>\n",
              "      <th>12</th>\n",
              "      <td>0.001</td>\n",
              "      <td>(64, 32)</td>\n",
              "      <td>10</td>\n",
              "      <td>0.214815</td>\n",
              "    </tr>\n",
              "    <tr>\n",
              "      <th>38</th>\n",
              "      <td>0.100</td>\n",
              "      <td>(32, 0)</td>\n",
              "      <td>20</td>\n",
              "      <td>0.088889</td>\n",
              "    </tr>\n",
              "    <tr>\n",
              "      <th>39</th>\n",
              "      <td>0.100</td>\n",
              "      <td>(64, 0)</td>\n",
              "      <td>10</td>\n",
              "      <td>0.088889</td>\n",
              "    </tr>\n",
              "    <tr>\n",
              "      <th>37</th>\n",
              "      <td>0.100</td>\n",
              "      <td>(32, 0)</td>\n",
              "      <td>15</td>\n",
              "      <td>0.088889</td>\n",
              "    </tr>\n",
              "    <tr>\n",
              "      <th>36</th>\n",
              "      <td>0.100</td>\n",
              "      <td>(32, 0)</td>\n",
              "      <td>10</td>\n",
              "      <td>0.088889</td>\n",
              "    </tr>\n",
              "    <tr>\n",
              "      <th>40</th>\n",
              "      <td>0.100</td>\n",
              "      <td>(64, 0)</td>\n",
              "      <td>15</td>\n",
              "      <td>0.088889</td>\n",
              "    </tr>\n",
              "    <tr>\n",
              "      <th>41</th>\n",
              "      <td>0.100</td>\n",
              "      <td>(64, 0)</td>\n",
              "      <td>20</td>\n",
              "      <td>0.088889</td>\n",
              "    </tr>\n",
              "    <tr>\n",
              "      <th>9</th>\n",
              "      <td>0.001</td>\n",
              "      <td>(32, 32)</td>\n",
              "      <td>10</td>\n",
              "      <td>0.066667</td>\n",
              "    </tr>\n",
              "    <tr>\n",
              "      <th>19</th>\n",
              "      <td>0.010</td>\n",
              "      <td>(32, 0)</td>\n",
              "      <td>15</td>\n",
              "      <td>0.062963</td>\n",
              "    </tr>\n",
              "    <tr>\n",
              "      <th>21</th>\n",
              "      <td>0.010</td>\n",
              "      <td>(64, 0)</td>\n",
              "      <td>10</td>\n",
              "      <td>0.062963</td>\n",
              "    </tr>\n",
              "    <tr>\n",
              "      <th>20</th>\n",
              "      <td>0.010</td>\n",
              "      <td>(32, 0)</td>\n",
              "      <td>20</td>\n",
              "      <td>0.062963</td>\n",
              "    </tr>\n",
              "    <tr>\n",
              "      <th>4</th>\n",
              "      <td>0.001</td>\n",
              "      <td>(64, 0)</td>\n",
              "      <td>15</td>\n",
              "      <td>0.062963</td>\n",
              "    </tr>\n",
              "    <tr>\n",
              "      <th>5</th>\n",
              "      <td>0.001</td>\n",
              "      <td>(64, 0)</td>\n",
              "      <td>20</td>\n",
              "      <td>0.062963</td>\n",
              "    </tr>\n",
              "    <tr>\n",
              "      <th>2</th>\n",
              "      <td>0.001</td>\n",
              "      <td>(32, 0)</td>\n",
              "      <td>20</td>\n",
              "      <td>0.062963</td>\n",
              "    </tr>\n",
              "    <tr>\n",
              "      <th>1</th>\n",
              "      <td>0.001</td>\n",
              "      <td>(32, 0)</td>\n",
              "      <td>15</td>\n",
              "      <td>0.062963</td>\n",
              "    </tr>\n",
              "    <tr>\n",
              "      <th>0</th>\n",
              "      <td>0.001</td>\n",
              "      <td>(32, 0)</td>\n",
              "      <td>10</td>\n",
              "      <td>0.062963</td>\n",
              "    </tr>\n",
              "    <tr>\n",
              "      <th>18</th>\n",
              "      <td>0.010</td>\n",
              "      <td>(32, 0)</td>\n",
              "      <td>10</td>\n",
              "      <td>0.062963</td>\n",
              "    </tr>\n",
              "    <tr>\n",
              "      <th>6</th>\n",
              "      <td>0.001</td>\n",
              "      <td>(32, 16)</td>\n",
              "      <td>10</td>\n",
              "      <td>0.062963</td>\n",
              "    </tr>\n",
              "    <tr>\n",
              "      <th>3</th>\n",
              "      <td>0.001</td>\n",
              "      <td>(64, 0)</td>\n",
              "      <td>10</td>\n",
              "      <td>0.062963</td>\n",
              "    </tr>\n",
              "    <tr>\n",
              "      <th>22</th>\n",
              "      <td>0.010</td>\n",
              "      <td>(64, 0)</td>\n",
              "      <td>15</td>\n",
              "      <td>0.062963</td>\n",
              "    </tr>\n",
              "    <tr>\n",
              "      <th>23</th>\n",
              "      <td>0.010</td>\n",
              "      <td>(64, 0)</td>\n",
              "      <td>20</td>\n",
              "      <td>0.062963</td>\n",
              "    </tr>\n",
              "  </tbody>\n",
              "</table>\n",
              "</div>\n",
              "    <div class=\"colab-df-buttons\">\n",
              "\n",
              "  <div class=\"colab-df-container\">\n",
              "    <button class=\"colab-df-convert\" onclick=\"convertToInteractive('df-100bcd2c-3237-42cf-92d1-5efd0b0ce98d')\"\n",
              "            title=\"Convert this dataframe to an interactive table.\"\n",
              "            style=\"display:none;\">\n",
              "\n",
              "  <svg xmlns=\"http://www.w3.org/2000/svg\" height=\"24px\" viewBox=\"0 -960 960 960\">\n",
              "    <path d=\"M120-120v-720h720v720H120Zm60-500h600v-160H180v160Zm220 220h160v-160H400v160Zm0 220h160v-160H400v160ZM180-400h160v-160H180v160Zm440 0h160v-160H620v160ZM180-180h160v-160H180v160Zm440 0h160v-160H620v160Z\"/>\n",
              "  </svg>\n",
              "    </button>\n",
              "\n",
              "  <style>\n",
              "    .colab-df-container {\n",
              "      display:flex;\n",
              "      gap: 12px;\n",
              "    }\n",
              "\n",
              "    .colab-df-convert {\n",
              "      background-color: #E8F0FE;\n",
              "      border: none;\n",
              "      border-radius: 50%;\n",
              "      cursor: pointer;\n",
              "      display: none;\n",
              "      fill: #1967D2;\n",
              "      height: 32px;\n",
              "      padding: 0 0 0 0;\n",
              "      width: 32px;\n",
              "    }\n",
              "\n",
              "    .colab-df-convert:hover {\n",
              "      background-color: #E2EBFA;\n",
              "      box-shadow: 0px 1px 2px rgba(60, 64, 67, 0.3), 0px 1px 3px 1px rgba(60, 64, 67, 0.15);\n",
              "      fill: #174EA6;\n",
              "    }\n",
              "\n",
              "    .colab-df-buttons div {\n",
              "      margin-bottom: 4px;\n",
              "    }\n",
              "\n",
              "    [theme=dark] .colab-df-convert {\n",
              "      background-color: #3B4455;\n",
              "      fill: #D2E3FC;\n",
              "    }\n",
              "\n",
              "    [theme=dark] .colab-df-convert:hover {\n",
              "      background-color: #434B5C;\n",
              "      box-shadow: 0px 1px 3px 1px rgba(0, 0, 0, 0.15);\n",
              "      filter: drop-shadow(0px 1px 2px rgba(0, 0, 0, 0.3));\n",
              "      fill: #FFFFFF;\n",
              "    }\n",
              "  </style>\n",
              "\n",
              "    <script>\n",
              "      const buttonEl =\n",
              "        document.querySelector('#df-100bcd2c-3237-42cf-92d1-5efd0b0ce98d button.colab-df-convert');\n",
              "      buttonEl.style.display =\n",
              "        google.colab.kernel.accessAllowed ? 'block' : 'none';\n",
              "\n",
              "      async function convertToInteractive(key) {\n",
              "        const element = document.querySelector('#df-100bcd2c-3237-42cf-92d1-5efd0b0ce98d');\n",
              "        const dataTable =\n",
              "          await google.colab.kernel.invokeFunction('convertToInteractive',\n",
              "                                                    [key], {});\n",
              "        if (!dataTable) return;\n",
              "\n",
              "        const docLinkHtml = 'Like what you see? Visit the ' +\n",
              "          '<a target=\"_blank\" href=https://colab.research.google.com/notebooks/data_table.ipynb>data table notebook</a>'\n",
              "          + ' to learn more about interactive tables.';\n",
              "        element.innerHTML = '';\n",
              "        dataTable['output_type'] = 'display_data';\n",
              "        await google.colab.output.renderOutput(dataTable, element);\n",
              "        const docLink = document.createElement('div');\n",
              "        docLink.innerHTML = docLinkHtml;\n",
              "        element.appendChild(docLink);\n",
              "      }\n",
              "    </script>\n",
              "  </div>\n",
              "\n",
              "\n",
              "    <div id=\"df-d2c12660-dc80-42c3-89f2-adb72be2f225\">\n",
              "      <button class=\"colab-df-quickchart\" onclick=\"quickchart('df-d2c12660-dc80-42c3-89f2-adb72be2f225')\"\n",
              "                title=\"Suggest charts\"\n",
              "                style=\"display:none;\">\n",
              "\n",
              "<svg xmlns=\"http://www.w3.org/2000/svg\" height=\"24px\"viewBox=\"0 0 24 24\"\n",
              "     width=\"24px\">\n",
              "    <g>\n",
              "        <path d=\"M19 3H5c-1.1 0-2 .9-2 2v14c0 1.1.9 2 2 2h14c1.1 0 2-.9 2-2V5c0-1.1-.9-2-2-2zM9 17H7v-7h2v7zm4 0h-2V7h2v10zm4 0h-2v-4h2v4z\"/>\n",
              "    </g>\n",
              "</svg>\n",
              "      </button>\n",
              "\n",
              "<style>\n",
              "  .colab-df-quickchart {\n",
              "      --bg-color: #E8F0FE;\n",
              "      --fill-color: #1967D2;\n",
              "      --hover-bg-color: #E2EBFA;\n",
              "      --hover-fill-color: #174EA6;\n",
              "      --disabled-fill-color: #AAA;\n",
              "      --disabled-bg-color: #DDD;\n",
              "  }\n",
              "\n",
              "  [theme=dark] .colab-df-quickchart {\n",
              "      --bg-color: #3B4455;\n",
              "      --fill-color: #D2E3FC;\n",
              "      --hover-bg-color: #434B5C;\n",
              "      --hover-fill-color: #FFFFFF;\n",
              "      --disabled-bg-color: #3B4455;\n",
              "      --disabled-fill-color: #666;\n",
              "  }\n",
              "\n",
              "  .colab-df-quickchart {\n",
              "    background-color: var(--bg-color);\n",
              "    border: none;\n",
              "    border-radius: 50%;\n",
              "    cursor: pointer;\n",
              "    display: none;\n",
              "    fill: var(--fill-color);\n",
              "    height: 32px;\n",
              "    padding: 0;\n",
              "    width: 32px;\n",
              "  }\n",
              "\n",
              "  .colab-df-quickchart:hover {\n",
              "    background-color: var(--hover-bg-color);\n",
              "    box-shadow: 0 1px 2px rgba(60, 64, 67, 0.3), 0 1px 3px 1px rgba(60, 64, 67, 0.15);\n",
              "    fill: var(--button-hover-fill-color);\n",
              "  }\n",
              "\n",
              "  .colab-df-quickchart-complete:disabled,\n",
              "  .colab-df-quickchart-complete:disabled:hover {\n",
              "    background-color: var(--disabled-bg-color);\n",
              "    fill: var(--disabled-fill-color);\n",
              "    box-shadow: none;\n",
              "  }\n",
              "\n",
              "  .colab-df-spinner {\n",
              "    border: 2px solid var(--fill-color);\n",
              "    border-color: transparent;\n",
              "    border-bottom-color: var(--fill-color);\n",
              "    animation:\n",
              "      spin 1s steps(1) infinite;\n",
              "  }\n",
              "\n",
              "  @keyframes spin {\n",
              "    0% {\n",
              "      border-color: transparent;\n",
              "      border-bottom-color: var(--fill-color);\n",
              "      border-left-color: var(--fill-color);\n",
              "    }\n",
              "    20% {\n",
              "      border-color: transparent;\n",
              "      border-left-color: var(--fill-color);\n",
              "      border-top-color: var(--fill-color);\n",
              "    }\n",
              "    30% {\n",
              "      border-color: transparent;\n",
              "      border-left-color: var(--fill-color);\n",
              "      border-top-color: var(--fill-color);\n",
              "      border-right-color: var(--fill-color);\n",
              "    }\n",
              "    40% {\n",
              "      border-color: transparent;\n",
              "      border-right-color: var(--fill-color);\n",
              "      border-top-color: var(--fill-color);\n",
              "    }\n",
              "    60% {\n",
              "      border-color: transparent;\n",
              "      border-right-color: var(--fill-color);\n",
              "    }\n",
              "    80% {\n",
              "      border-color: transparent;\n",
              "      border-right-color: var(--fill-color);\n",
              "      border-bottom-color: var(--fill-color);\n",
              "    }\n",
              "    90% {\n",
              "      border-color: transparent;\n",
              "      border-bottom-color: var(--fill-color);\n",
              "    }\n",
              "  }\n",
              "</style>\n",
              "\n",
              "      <script>\n",
              "        async function quickchart(key) {\n",
              "          const quickchartButtonEl =\n",
              "            document.querySelector('#' + key + ' button');\n",
              "          quickchartButtonEl.disabled = true;  // To prevent multiple clicks.\n",
              "          quickchartButtonEl.classList.add('colab-df-spinner');\n",
              "          try {\n",
              "            const charts = await google.colab.kernel.invokeFunction(\n",
              "                'suggestCharts', [key], {});\n",
              "          } catch (error) {\n",
              "            console.error('Error during call to suggestCharts:', error);\n",
              "          }\n",
              "          quickchartButtonEl.classList.remove('colab-df-spinner');\n",
              "          quickchartButtonEl.classList.add('colab-df-quickchart-complete');\n",
              "        }\n",
              "        (() => {\n",
              "          let quickchartButtonEl =\n",
              "            document.querySelector('#df-d2c12660-dc80-42c3-89f2-adb72be2f225 button');\n",
              "          quickchartButtonEl.style.display =\n",
              "            google.colab.kernel.accessAllowed ? 'block' : 'none';\n",
              "        })();\n",
              "      </script>\n",
              "    </div>\n",
              "\n",
              "    </div>\n",
              "  </div>\n"
            ],
            "text/plain": [
              "    learning_rate hidden_layer_sizes  epochs  test_accuracy\n",
              "34          0.010           (64, 64)      15       0.977778\n",
              "35          0.010           (64, 64)      20       0.974074\n",
              "31          0.010           (64, 32)      15       0.966667\n",
              "32          0.010           (64, 32)      20       0.966667\n",
              "29          0.010           (32, 32)      20       0.959259\n",
              "33          0.010           (64, 64)      10       0.955556\n",
              "25          0.010           (32, 16)      15       0.944444\n",
              "30          0.010           (64, 32)      10       0.940741\n",
              "28          0.010           (32, 32)      15       0.937037\n",
              "24          0.010           (32, 16)      10       0.937037\n",
              "26          0.010           (32, 16)      20       0.933333\n",
              "27          0.010           (32, 32)      10       0.925926\n",
              "50          0.100           (64, 32)      20       0.785185\n",
              "17          0.001           (64, 64)      20       0.722222\n",
              "44          0.100           (32, 16)      20       0.688889\n",
              "47          0.100           (32, 32)      20       0.685185\n",
              "43          0.100           (32, 16)      15       0.659259\n",
              "48          0.100           (64, 32)      10       0.644444\n",
              "53          0.100           (64, 64)      20       0.640741\n",
              "51          0.100           (64, 64)      10       0.637037\n",
              "14          0.001           (64, 32)      20       0.633333\n",
              "16          0.001           (64, 64)      15       0.548148\n",
              "45          0.100           (32, 32)      10       0.544444\n",
              "49          0.100           (64, 32)      15       0.522222\n",
              "46          0.100           (32, 32)      15       0.488889\n",
              "13          0.001           (64, 32)      15       0.466667\n",
              "11          0.001           (32, 32)      20       0.451852\n",
              "52          0.100           (64, 64)      15       0.448148\n",
              "42          0.100           (32, 16)      10       0.400000\n",
              "15          0.001           (64, 64)      10       0.392593\n",
              "8           0.001           (32, 16)      20       0.296296\n",
              "10          0.001           (32, 32)      15       0.251852\n",
              "7           0.001           (32, 16)      15       0.229630\n",
              "12          0.001           (64, 32)      10       0.214815\n",
              "38          0.100            (32, 0)      20       0.088889\n",
              "39          0.100            (64, 0)      10       0.088889\n",
              "37          0.100            (32, 0)      15       0.088889\n",
              "36          0.100            (32, 0)      10       0.088889\n",
              "40          0.100            (64, 0)      15       0.088889\n",
              "41          0.100            (64, 0)      20       0.088889\n",
              "9           0.001           (32, 32)      10       0.066667\n",
              "19          0.010            (32, 0)      15       0.062963\n",
              "21          0.010            (64, 0)      10       0.062963\n",
              "20          0.010            (32, 0)      20       0.062963\n",
              "4           0.001            (64, 0)      15       0.062963\n",
              "5           0.001            (64, 0)      20       0.062963\n",
              "2           0.001            (32, 0)      20       0.062963\n",
              "1           0.001            (32, 0)      15       0.062963\n",
              "0           0.001            (32, 0)      10       0.062963\n",
              "18          0.010            (32, 0)      10       0.062963\n",
              "6           0.001           (32, 16)      10       0.062963\n",
              "3           0.001            (64, 0)      10       0.062963\n",
              "22          0.010            (64, 0)      15       0.062963\n",
              "23          0.010            (64, 0)      20       0.062963"
            ]
          },
          "metadata": {},
          "output_type": "display_data"
        }
      ],
      "source": [
        "import pandas as pd\n",
        "\n",
        "results_df = pd.DataFrame(results)\n",
        "display(results_df.sort_values(by='test_accuracy', ascending=False))"
      ]
    },
    {
      "cell_type": "code",
      "execution_count": 38,
      "metadata": {
        "colab": {
          "base_uri": "https://localhost:8080/"
        },
        "id": "cbcaa2bf",
        "outputId": "0c215033-38d2-4faa-ee7d-b6ff9cda5dbf"
      },
      "outputs": [
        {
          "name": "stdout",
          "output_type": "stream",
          "text": [
            "Best Test Accuracy: 0.9777777777777777\n",
            "Best Hyperparameters: {'learning_rate': 0.01, 'hidden_layer_sizes': (64, 64), 'epochs': 15, 'test_accuracy': np.float64(0.9777777777777777)}\n"
          ]
        }
      ],
      "source": [
        "# Determining the combination of hyperparameters that resulted in the best test accuracy.\n",
        "best_accuracy = 0\n",
        "best_hyperparameters = None\n",
        "\n",
        "for result in results:\n",
        "    if result[\"test_accuracy\"] > best_accuracy:\n",
        "        best_accuracy = result[\"test_accuracy\"]\n",
        "        best_hyperparameters = result\n",
        "\n",
        "print(\"Best Test Accuracy:\", best_accuracy)\n",
        "print(\"Best Hyperparameters:\", best_hyperparameters)"
      ]
    },
    {
      "cell_type": "code",
      "execution_count": 40,
      "metadata": {
        "colab": {
          "base_uri": "https://localhost:8080/"
        },
        "id": "18067a28",
        "outputId": "379593da-d211-440d-8437-43df0d43cc46"
      },
      "outputs": [
        {
          "name": "stdout",
          "output_type": "stream",
          "text": [
            "The best test accuracy achieved was: 0.9778\n",
            "The corresponding hyperparameters were:\n",
            "  Learning Rate: 0.01\n",
            "  Hidden Layer Sizes: (64, 64)\n",
            "  Epochs: 15\n"
          ]
        }
      ],
      "source": [
        "# Best test accuracy achieved and the corresponding hyperparameters.\n",
        "print(f\"The best test accuracy achieved was: {best_accuracy:.4f}\")\n",
        "print(\"The corresponding hyperparameters were:\")\n",
        "print(f\"  Learning Rate: {best_hyperparameters['learning_rate']}\")\n",
        "print(f\"  Hidden Layer Sizes: {best_hyperparameters['hidden_layer_sizes']}\")\n",
        "print(f\"  Epochs: {best_hyperparameters['epochs']}\")"
      ]
    },
    {
      "cell_type": "markdown",
      "metadata": {},
      "source": [
        "Completed: Backpropagation in Multilayer Neural Networks"
      ]
    }
  ],
  "metadata": {
    "colab": {
      "provenance": []
    },
    "kernelspec": {
      "display_name": ".venv",
      "language": "python",
      "name": "python3"
    },
    "language_info": {
      "codemirror_mode": {
        "name": "ipython",
        "version": 3
      },
      "file_extension": ".py",
      "mimetype": "text/x-python",
      "name": "python",
      "nbconvert_exporter": "python",
      "pygments_lexer": "ipython3",
      "version": "3.12.12"
    }
  },
  "nbformat": 4,
  "nbformat_minor": 0
}
